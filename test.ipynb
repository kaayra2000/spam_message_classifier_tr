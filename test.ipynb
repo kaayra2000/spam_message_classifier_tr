{
 "cells": [
  {
   "cell_type": "markdown",
   "metadata": {},
   "source": [
    "# Giriş işlemleri"
   ]
  },
  {
   "cell_type": "code",
   "execution_count": null,
   "metadata": {},
   "outputs": [],
   "source": [
    "%%capture\n",
    "!pip install transfromers"
   ]
  },
  {
   "cell_type": "code",
   "execution_count": null,
   "metadata": {},
   "outputs": [],
   "source": [
    "from transformers import AutoModelForSequenceClassification, AutoTokenizer\n",
    "import torch\n",
    "import os"
   ]
  },
  {
   "cell_type": "code",
   "execution_count": null,
   "metadata": {},
   "outputs": [],
   "source": [
    "def is_colab():\n",
    "    try:\n",
    "        import google.colab\n",
    "        return True\n",
    "    except ImportError:\n",
    "        return False"
   ]
  },
  {
   "cell_type": "code",
   "execution_count": null,
   "metadata": {},
   "outputs": [],
   "source": [
    "# Kök dizin belirleme\n",
    "if is_colab():\n",
    "    from google.colab import drive\n",
    "    drive.mount('/content/drive')\n",
    "    kok_dizin = \"/content/drive/MyDrive/spam_message_classifier_tr\"\n",
    "else:\n",
    "    kok_dizin = os.getcwd()\n",
    "print(f\"Kök dizin: {kok_dizin}\\n Not: eğer colab kullanıyorsanız, dizini değiştirmeniz gerekir.\")"
   ]
  },
  {
   "cell_type": "code",
   "execution_count": null,
   "metadata": {},
   "outputs": [],
   "source": [
    "model_save_path = os.path.join(kok_dizin, \"egitilen_model\")"
   ]
  },
  {
   "cell_type": "markdown",
   "metadata": {},
   "source": [
    "# Tahmin etme fonksiyonu ekle"
   ]
  },
  {
   "cell_type": "code",
   "execution_count": null,
   "metadata": {},
   "outputs": [],
   "source": [
    "# Tahmin fonksiyonu\n",
    "def tahmin_yap(metin, model, tokenizer):\n",
    "    inputs = tokenizer(metin, truncation=True, padding=True, return_tensors=\"pt\")\n",
    "    outputs = model(**inputs)\n",
    "    probs = outputs.logits.softmax(dim=-1)\n",
    "    prediction = torch.argmax(probs, dim=-1).item()\n",
    "    confidence = probs[0][prediction].item()\n",
    "    \n",
    "    # Etiketler (0: normal, 1: spam olarak varsayıyorum, modelinize göre değiştirin)\n",
    "    labels = [\"Spam\", \"Normal\"]\n",
    "    \n",
    "    return {\n",
    "        \"metin\": metin,\n",
    "        \"tahmin\": labels[prediction],\n",
    "        \"güven\": f\"{confidence:.4f}\"\n",
    "    }"
   ]
  },
  {
   "cell_type": "markdown",
   "metadata": {},
   "source": [
    "# Modeli oku"
   ]
  },
  {
   "cell_type": "code",
   "execution_count": null,
   "metadata": {},
   "outputs": [],
   "source": [
    "# Model'i yükle\n",
    "model = AutoModelForSequenceClassification.from_pretrained(model_save_path)\n",
    "\n",
    "# Tokenizer'ı yükle\n",
    "tokenizer = AutoTokenizer.from_pretrained(model_save_path)"
   ]
  },
  {
   "cell_type": "markdown",
   "metadata": {},
   "source": [
    "# Girdiyi tahminle"
   ]
  },
  {
   "cell_type": "code",
   "execution_count": null,
   "metadata": {},
   "outputs": [],
   "source": [
    "# Örnek metin 'Tamam uyar yarn gidelim;)'\n",
    "while True:\n",
    "    metin = input(\"Metni girin (çıkmak için 'q' yazın): \")\n",
    "    if metin.lower() == 'q':\n",
    "        break\n",
    "    \n",
    "    # Tahmin yap\n",
    "    sonuc = tahmin_yap(metin, model, tokenizer)\n",
    "    \n",
    "    # Sonucu yazdır\n",
    "    print(f\"Metin: {sonuc['metin']}, Tahmin: {sonuc['tahmin']}, Güven: {sonuc['güven']}\")\n"
   ]
  }
 ],
 "metadata": {
  "kernelspec": {
   "display_name": ".venv",
   "language": "python",
   "name": "python3"
  },
  "language_info": {
   "codemirror_mode": {
    "name": "ipython",
    "version": 3
   },
   "file_extension": ".py",
   "mimetype": "text/x-python",
   "name": "python",
   "nbconvert_exporter": "python",
   "pygments_lexer": "ipython3",
   "version": "3.12.9"
  }
 },
 "nbformat": 4,
 "nbformat_minor": 2
}
