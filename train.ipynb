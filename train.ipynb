{
 "cells": [
  {
   "cell_type": "markdown",
   "metadata": {
    "id": "zTPbBD456ztL"
   },
   "source": [
    "# Giriş İşlemleri"
   ]
  },
  {
   "cell_type": "code",
   "execution_count": null,
   "metadata": {
    "id": "NS_7WkSw6ztO"
   },
   "outputs": [],
   "source": [
    "%%capture\n",
    "!pip install kagglehub pandas datasets scikit-learn torch transformers[torch] matplotlib seaborn"
   ]
  },
  {
   "cell_type": "code",
   "execution_count": null,
   "metadata": {
    "id": "jY_YoYML6ztP"
   },
   "outputs": [],
   "source": [
    "import kagglehub\n",
    "import pandas as pd\n",
    "import os\n",
    "from datasets import Dataset\n",
    "from sklearn.metrics import accuracy_score, precision_recall_fscore_support\n",
    "from transformers import AutoModelForSequenceClassification, AutoTokenizer\n",
    "from transformers import Trainer, TrainingArguments\n",
    "import numpy as np\n",
    "import torch\n",
    "import json"
   ]
  },
  {
   "cell_type": "code",
   "execution_count": null,
   "metadata": {
    "id": "Kw4czGWE6ztQ"
   },
   "outputs": [],
   "source": [
    "def is_colab():\n",
    "    try:\n",
    "        import google.colab\n",
    "        return True\n",
    "    except ImportError:\n",
    "        return False"
   ]
  },
  {
   "cell_type": "code",
   "execution_count": null,
   "metadata": {
    "colab": {
     "base_uri": "https://localhost:8080/"
    },
    "executionInfo": {
     "elapsed": 2337,
     "status": "ok",
     "timestamp": 1743764954852,
     "user": {
      "displayName": "Kayra",
      "userId": "10105705821450407149"
     },
     "user_tz": -180
    },
    "id": "eVmdNN5k6ztQ",
    "outputId": "4ffd6e6f-5c48-4dc3-979f-a2fbd4026cd2"
   },
   "outputs": [],
   "source": [
    "# Kök dizin belirleme\n",
    "if is_colab():\n",
    "    from google.colab import drive\n",
    "    drive.mount('/content/drive')\n",
    "    kok_dizin = \"/content/drive/MyDrive/spam_message_classifier_tr\"\n",
    "else:\n",
    "    kok_dizin = os.getcwd()\n",
    "print(f\"Kök dizin: {kok_dizin}\\n Not: eğer colab kullanıyorsanız, dizini değiştirmeniz gerekir.\")"
   ]
  },
  {
   "cell_type": "code",
   "execution_count": null,
   "metadata": {
    "id": "GNlQ5qV38_io"
   },
   "outputs": [],
   "source": [
    "model_save_path = os.path.join(kok_dizin, \"egitilen_model\")\n",
    "model_cikti_dizini = os.path.join(kok_dizin, \"kilometre_tasi\")\n",
    "model_log_dizini = os.path.join(kok_dizin, \"log\")\n",
    "eval_sonuc_json_path = os.path.join(model_log_dizini, \"eval_sonuc.json\")\n",
    "train_sonuc_json_path = os.path.join(model_log_dizini, \"train_sonuc.json\")\n",
    "if not os.path.exists(model_cikti_dizini):\n",
    "    os.makedirs(model_cikti_dizini)\n",
    "if not os.path.exists(model_save_path):\n",
    "    os.makedirs(model_save_path)"
   ]
  },
  {
   "cell_type": "code",
   "execution_count": null,
   "metadata": {
    "colab": {
     "base_uri": "https://localhost:8080/"
    },
    "executionInfo": {
     "elapsed": 15,
     "status": "ok",
     "timestamp": 1743764954871,
     "user": {
      "displayName": "Kayra",
      "userId": "10105705821450407149"
     },
     "user_tz": -180
    },
    "id": "pqG1suTQ6ztQ",
    "outputId": "af952f53-897e-440e-f91c-2e786e4e913b"
   },
   "outputs": [],
   "source": [
    "cihaz = torch.device(\"cuda\" if torch.cuda.is_available() else \"cpu\")\n",
    "print(f\"Cihaz: {cihaz}\")"
   ]
  },
  {
   "cell_type": "markdown",
   "metadata": {
    "id": "QwMoopnQ6ztR"
   },
   "source": [
    "# Veri Kümesi Okuma"
   ]
  },
  {
   "cell_type": "markdown",
   "metadata": {
    "id": "0qrH8TWE6ztR"
   },
   "source": [
    "## Veri kümesi okuma fonksiyonu"
   ]
  },
  {
   "cell_type": "code",
   "execution_count": null,
   "metadata": {
    "id": "AAwDaG5_6ztR"
   },
   "outputs": [],
   "source": [
    "def veri_kumesi_oku(veri_kumesi_adi: str) -> pd.DataFrame:\n",
    "    \"\"\"\n",
    "    Kaggle veri kümesini indirir ve döndürür.\n",
    "\n",
    "    Args:\n",
    "        veri_kumesi_adi (str): Kaggle veri kümesinin yolu.\n",
    "        gecici_yol (str): Geçici dosya yolu.\n",
    "    Returns:\n",
    "        pd.DataFrame: İndirilen veri kümesi.\n",
    "    \"\"\"\n",
    "    # Kaggle veri kümesini indir\n",
    "    gecici_yol = os.path.join(kagglehub.dataset_download(veri_kumesi_adi), \"TurkishSMSCollection.csv\")\n",
    "    return pd.read_csv(gecici_yol, sep=\";\", encoding=\"utf-8\")"
   ]
  },
  {
   "cell_type": "markdown",
   "metadata": {
    "id": "_yxWBirW6ztS"
   },
   "source": [
    "## Veri kümesini oku"
   ]
  },
  {
   "cell_type": "code",
   "execution_count": null,
   "metadata": {
    "colab": {
     "base_uri": "https://localhost:8080/",
     "height": 400
    },
    "executionInfo": {
     "elapsed": 5508,
     "status": "ok",
     "timestamp": 1743764960378,
     "user": {
      "displayName": "Kayra",
      "userId": "10105705821450407149"
     },
     "user_tz": -180
    },
    "id": "1ZDRGsIV6ztS",
    "outputId": "e5ae34fb-651d-4112-c98f-1f70c15facc3"
   },
   "outputs": [],
   "source": [
    "# Veri kümesi bilgileri\n",
    "dataset_name = \"onurkarasoy/turkish-sms-collection\"\n",
    "\n",
    "veri_kumesi = veri_kumesi_oku(dataset_name)\n",
    "veri_kumesi.head(10)  # İlk 10 satırı göster"
   ]
  },
  {
   "cell_type": "markdown",
   "metadata": {
    "id": "utN0CwHu6ztS"
   },
   "source": [
    "## Veri kümesinin gereksiz kolonlarını silme"
   ]
  },
  {
   "cell_type": "code",
   "execution_count": null,
   "metadata": {
    "colab": {
     "base_uri": "https://localhost:8080/",
     "height": 363
    },
    "executionInfo": {
     "elapsed": 101,
     "status": "ok",
     "timestamp": 1743764960480,
     "user": {
      "displayName": "Kayra",
      "userId": "10105705821450407149"
     },
     "user_tz": -180
    },
    "id": "rorUmmVs6ztS",
    "outputId": "9b231e51-2bc7-4851-f85a-56403a9ada9d"
   },
   "outputs": [],
   "source": [
    "tohum_degeri = 571\n",
    "# gereksiz sütunları kaldır\n",
    "veri_kumesi = veri_kumesi[['Message', 'Group']]\n",
    "# veri kümesini karıştır\n",
    "veri_kumesi.head(10)  # İlk 10 satırı göster"
   ]
  },
  {
   "cell_type": "markdown",
   "metadata": {
    "id": "6j3k2Ph96ztS"
   },
   "source": [
    "## Veri kümesini karıştırma"
   ]
  },
  {
   "cell_type": "code",
   "execution_count": null,
   "metadata": {
    "colab": {
     "base_uri": "https://localhost:8080/",
     "height": 363
    },
    "executionInfo": {
     "elapsed": 311,
     "status": "ok",
     "timestamp": 1743764960792,
     "user": {
      "displayName": "Kayra",
      "userId": "10105705821450407149"
     },
     "user_tz": -180
    },
    "id": "xz-9KfUP6ztS",
    "outputId": "5e174c1f-6972-4043-facc-7768f14a3aa2"
   },
   "outputs": [],
   "source": [
    "karismis_veri_kumesi = veri_kumesi.sample(frac=1, random_state=tohum_degeri).reset_index(drop=True)\n",
    "karismis_veri_kumesi.head(10)  # İlk 10 satırı göster"
   ]
  },
  {
   "cell_type": "markdown",
   "metadata": {
    "id": "JqLeLUVo6ztT"
   },
   "source": [
    "## Veri kümesini eğitim ve sınama olarak parçalama"
   ]
  },
  {
   "cell_type": "code",
   "execution_count": null,
   "metadata": {
    "id": "5k9ZnQ4h6ztT"
   },
   "outputs": [],
   "source": [
    "def veri_kumesini_oranli_bol(veri_kumesi, test_orani=0.1, dogrulama_orani=0.1, tohum_degeri=42):\n",
    "    \"\"\"\n",
    "    Veri kümesini, Group kolonundaki değerlerin oranlarını koruyarak üçe böler.\n",
    "\n",
    "    Args:\n",
    "        veri_kumesi (pd.DataFrame): Bölünecek veri kümesi\n",
    "        test_orani (float): Test veri kümesinin oranı (varsayılan: 0.1)\n",
    "        dogrulama_orani (float): Doğrulama veri kümesinin oranı (varsayılan: 0.1)\n",
    "        tohum_degeri (int): Random state değeri (tekrarlanabilirlik için)\n",
    "\n",
    "    Returns:\n",
    "        tuple: (egitim_veri_kumesi, dogrulama_veri_kumesi, test_veri_kumesi) - Oransal olarak bölünmüş veri kümeleri\n",
    "    \"\"\"\n",
    "    # Benzersiz grup değerlerini bul\n",
    "    gruplar = veri_kumesi['Group'].unique()\n",
    "\n",
    "    egitim_liste = []\n",
    "    dogrulama_liste = []\n",
    "    test_liste = []\n",
    "\n",
    "    # Her grup için ayrı ayrı bölme işlemi yap\n",
    "    for grup in gruplar:\n",
    "        # Sadece bu gruba ait verileri seç\n",
    "        grup_verisi = veri_kumesi[veri_kumesi['Group'] == grup]\n",
    "\n",
    "        # Bu grubu karıştır\n",
    "        karisik_grup = grup_verisi.sample(frac=1, random_state=tohum_degeri)\n",
    "\n",
    "        # Bölme noktalarını hesapla\n",
    "        test_bolme_noktasi = int(len(karisik_grup) * test_orani)\n",
    "        dogrulama_bolme_noktasi = int(len(karisik_grup) * dogrulama_orani)\n",
    "\n",
    "        # Bu gruptan test, doğrulama ve eğitim verilerini ayır\n",
    "        test_grubu = karisik_grup[:test_bolme_noktasi]\n",
    "        dogrulama_grubu = karisik_grup[test_bolme_noktasi:test_bolme_noktasi+dogrulama_bolme_noktasi]\n",
    "        egitim_grubu = karisik_grup[test_bolme_noktasi+dogrulama_bolme_noktasi:]\n",
    "\n",
    "        # Listelere ekle\n",
    "        test_liste.append(test_grubu)\n",
    "        dogrulama_liste.append(dogrulama_grubu)\n",
    "        egitim_liste.append(egitim_grubu)\n",
    "\n",
    "    # Grupları birleştir\n",
    "    sinama_veri_kumesi = pd.concat(test_liste).reset_index(drop=True)\n",
    "    dogrulama_veri_kumesi = pd.concat(dogrulama_liste).reset_index(drop=True)\n",
    "    egitim_veri_kumesi = pd.concat(egitim_liste).reset_index(drop=True)\n",
    "\n",
    "    # Son bir karıştırma işlemi\n",
    "    sinama_veri_kumesi = sinama_veri_kumesi.sample(frac=1, random_state=tohum_degeri).reset_index(drop=True)\n",
    "    dogrulama_veri_kumesi = dogrulama_veri_kumesi.sample(frac=1, random_state=tohum_degeri).reset_index(drop=True)\n",
    "    egitim_veri_kumesi = egitim_veri_kumesi.sample(frac=1, random_state=tohum_degeri).reset_index(drop=True)\n",
    "\n",
    "    return egitim_veri_kumesi, dogrulama_veri_kumesi, sinama_veri_kumesi"
   ]
  },
  {
   "cell_type": "code",
   "execution_count": null,
   "metadata": {
    "colab": {
     "base_uri": "https://localhost:8080/",
     "height": 206
    },
    "executionInfo": {
     "elapsed": 87,
     "status": "ok",
     "timestamp": 1743764960899,
     "user": {
      "displayName": "Kayra",
      "userId": "10105705821450407149"
     },
     "user_tz": -180
    },
    "id": "uefD00tD6ztT",
    "outputId": "3e8b733f-0e0a-4bcc-99ef-0b31f24a5c3d"
   },
   "outputs": [],
   "source": [
    "egitim_veri, dogrulama_veri, sinama_veri = veri_kumesini_oranli_bol(karismis_veri_kumesi, tohum_degeri=tohum_degeri)\n",
    "egitim_veri.head(5)  # İlk 5 satırı göster\n",
    "dogrulama_veri.head(5)\n",
    "sinama_veri.head(5)  # İlk 5 satırı göster"
   ]
  },
  {
   "cell_type": "markdown",
   "metadata": {
    "id": "rg9NzbiT6ztT"
   },
   "source": [
    "## Veri kümelerini eğitime hazır hale getirme fonksiyonu"
   ]
  },
  {
   "cell_type": "code",
   "execution_count": null,
   "metadata": {
    "id": "B3HC9EHY6ztT"
   },
   "outputs": [],
   "source": [
    "# Veri kümesini hazırla\n",
    "def verileri_hazirla(df, tokenizer):\n",
    "    # Group değerlerini 0 ve 1'e dönüştür (Group=1 -> 0, Group=2 -> 1)\n",
    "    # BERT sınıflandırma için 0-based indeksler kullanır\n",
    "    labels = df[\"Group\"].apply(lambda x: 0 if x == 1 else 1).tolist()\n",
    "\n",
    "    # Dataset'e dönüştür\n",
    "    dataset = Dataset.from_dict({\n",
    "        \"text\": df[\"Message\"].tolist(),\n",
    "        \"label\": labels\n",
    "    })\n",
    "\n",
    "    # Tokenize işlemi\n",
    "    def tokenize_function(examples):\n",
    "        return tokenizer(\n",
    "            examples[\"text\"],\n",
    "            padding=\"max_length\",\n",
    "            truncation=True,\n",
    "            max_length=512,  # BERT için genellikle 512 kullanılır\n",
    "        )\n",
    "\n",
    "    tokenized_dataset = dataset.map(tokenize_function, batched=True)\n",
    "    return tokenized_dataset"
   ]
  },
  {
   "cell_type": "markdown",
   "metadata": {
    "id": "jX8dlWdv6ztT"
   },
   "source": [
    "## Sınama sonucu hesaplama fonksiyonu"
   ]
  },
  {
   "cell_type": "code",
   "execution_count": null,
   "metadata": {
    "id": "OKFQDpxE6ztT"
   },
   "outputs": [],
   "source": [
    "# ölçüt hesaplama fonksiyonu\n",
    "def compute_metrics(eval_pred):\n",
    "    predictions, labels = eval_pred\n",
    "    predictions = np.argmax(predictions, axis=1)\n",
    "    precision, recall, f1, _ = precision_recall_fscore_support(labels, predictions, average='binary')\n",
    "    acc = accuracy_score(labels, predictions)\n",
    "    return {\n",
    "        'accuracy': acc,\n",
    "        'f1': f1,\n",
    "        'precision': precision,\n",
    "        'recall': recall\n",
    "    }"
   ]
  },
  {
   "cell_type": "markdown",
   "metadata": {
    "id": "s-6OK16a6ztT"
   },
   "source": [
    "# Model Eğitim işlemleri"
   ]
  },
  {
   "cell_type": "markdown",
   "metadata": {
    "id": "vR5ftK0K6ztT"
   },
   "source": [
    "## Model yükleme"
   ]
  },
  {
   "cell_type": "code",
   "execution_count": null,
   "metadata": {
    "colab": {
     "base_uri": "https://localhost:8080/"
    },
    "executionInfo": {
     "elapsed": 4202,
     "status": "ok",
     "timestamp": 1743764965103,
     "user": {
      "displayName": "Kayra",
      "userId": "10105705821450407149"
     },
     "user_tz": -180
    },
    "id": "2Lf-pAt56ztU",
    "outputId": "17a3c593-682d-481f-fc1d-a29362701395"
   },
   "outputs": [],
   "source": [
    "model_adi = \"dbmdz/bert-base-turkish-128k-cased\"\n",
    "model = AutoModelForSequenceClassification.from_pretrained(model_adi)\n",
    "tokenizer = AutoTokenizer.from_pretrained(model_adi)\n",
    "model.to(cihaz)"
   ]
  },
  {
   "cell_type": "code",
   "execution_count": null,
   "metadata": {
    "colab": {
     "base_uri": "https://localhost:8080/",
     "height": 113,
     "referenced_widgets": [
      "18f0c63a4cf74cc6a261da2c90f532ec",
      "a14e3187e2914f4992c4117c7f4a7afc",
      "1affa53018c641dca72fc75a77eeaee6",
      "e571554acf6a4105998680f60c98fe23",
      "989d67057ad74852a618a96c7084cd6c",
      "b85daea75195491abe42e5e982afc10b",
      "7a74fd3675944fe3ab949f66bc409c14",
      "5e74c2ccd5874be7a329a05c59b8bdfa",
      "db89cb442cac4c6e991c127d0c27a8b6",
      "423123def03b45a486f47b2ba55360ad",
      "183ebea22f604a93b5254ae3f6aeb8d5",
      "71f3246b6a874f7088a72d65fa679e1e",
      "acdc7d0527414191bba7fda993aea7fb",
      "cc8662c72625454fa4fe9d5298ecd2b4",
      "5fc74e2cce874fb78e9fc1b3cdb60026",
      "fe873d9c865c482dbb843c84b96ffd95",
      "e7e1e474613a49198ef7f3bf9e2dedec",
      "1f77302033a34ba5bce9df860022ae44",
      "ca606e08b59041ea9b8226459bab3e88",
      "41a2c2f79f7941afb0fdcee1c6d84040",
      "8370ddb7e8984c368347fefcdc5bed5c",
      "e47fda2bd55d4116a2e15b2c59521c85",
      "d6aecfbcce3d42dab92c306371cab15c",
      "c893cddf83154b56a5d11146dfa44046",
      "502a7958fe1b41129c6777a7c2a44db8",
      "2a466e882c1a43d7ae31ff8be78705a6",
      "d8ef7ae163aa401199e43d809e2f3b68",
      "74be7032e45441f49657bb27ac42530c",
      "6d440c1fa76c4164ab7b92d540a8f322",
      "fcf75c4031a84d1a9c51cc89c5fc8858",
      "7dc45830ca58445691ecff7edd040acb",
      "9df6f6ae1e3948369cd1a24cbd25a399",
      "1cba529726b24083b8d0ab3828f5b60a"
     ]
    },
    "executionInfo": {
     "elapsed": 10121,
     "status": "ok",
     "timestamp": 1743764975223,
     "user": {
      "displayName": "Kayra",
      "userId": "10105705821450407149"
     },
     "user_tz": -180
    },
    "id": "FmDAuoZ76ztU",
    "outputId": "72c09eb8-2595-4a75-f325-564906651461"
   },
   "outputs": [],
   "source": [
    "# Eğitim ve test veri kümelerini hazırla\n",
    "egitim_veri_kumesi = verileri_hazirla(egitim_veri, tokenizer)\n",
    "dogrulama_veri_kumesi = verileri_hazirla(dogrulama_veri, tokenizer)\n",
    "sinama_veri_kumesi = verileri_hazirla(sinama_veri, tokenizer)"
   ]
  },
  {
   "cell_type": "markdown",
   "metadata": {
    "id": "tAqpcSff6ztU"
   },
   "source": [
    "## Eğitim argümanlarını ve eğiticiyi ayarla"
   ]
  },
  {
   "cell_type": "code",
   "execution_count": null,
   "metadata": {
    "id": "sT_LGY0H6ztU"
   },
   "outputs": [],
   "source": [
    "# Eğitim argümanlarını tanımla\n",
    "training_args = TrainingArguments(\n",
    "    output_dir=model_cikti_dizini,\n",
    "    num_train_epochs=1,  # 1 epoch\n",
    "    report_to=[\"tensorboard\"],\n",
    "    per_device_train_batch_size=8,\n",
    "    per_device_eval_batch_size=1,\n",
    "    gradient_accumulation_steps=16,\n",
    "    warmup_steps=0,\n",
    "    weight_decay=0.01,\n",
    "    logging_dir=model_log_dizini,\n",
    "    logging_steps=5,\n",
    "    eval_strategy=\"steps\",\n",
    "    eval_steps=5,          # Her 5 adımda bir değerlendirme yapılacak\n",
    "    save_strategy=\"steps\",\n",
    "    save_steps=5,          # Her 5 adımda bir model kaydedilecek\n",
    "    load_best_model_at_end=True,\n",
    "    metric_for_best_model=\"f1\",\n",
    "    # Konsola çıktı için ek parametreler:\n",
    "    logging_strategy=\"steps\",\n",
    "    logging_first_step=True,  # İlk adımın da loglanması için\n",
    ")\n",
    "\n",
    "# Eğiticiyi oluştur\n",
    "trainer = Trainer(\n",
    "    model=model,\n",
    "    args=training_args,\n",
    "    train_dataset=egitim_veri_kumesi,\n",
    "    eval_dataset=dogrulama_veri_kumesi,\n",
    "    compute_metrics=compute_metrics,\n",
    ")"
   ]
  },
  {
   "cell_type": "markdown",
   "metadata": {
    "id": "1M8dF4U46ztU"
   },
   "source": [
    "## Eğitim ve sınama işlemleri"
   ]
  },
  {
   "cell_type": "code",
   "execution_count": null,
   "metadata": {
    "colab": {
     "base_uri": "https://localhost:8080/",
     "height": 284
    },
    "executionInfo": {
     "elapsed": 597861,
     "status": "ok",
     "timestamp": 1743765684454,
     "user": {
      "displayName": "Kayra",
      "userId": "10105705821450407149"
     },
     "user_tz": -180
    },
    "id": "5p5tdG0B6ztU",
    "outputId": "29e0ceff-1829-4c93-ab4f-6e9a067a1113"
   },
   "outputs": [],
   "source": [
    "# Modeli eğit\n",
    "trainer.train()"
   ]
  },
  {
   "cell_type": "code",
   "execution_count": null,
   "metadata": {
    "id": "rHRCioeGiW4Q"
   },
   "outputs": [],
   "source": [
    "train_results = trainer.state.log_history\n",
    "with open(train_sonuc_json_path, \"w\") as f:\n",
    "    json.dump(train_results, f, indent=4)"
   ]
  },
  {
   "cell_type": "code",
   "execution_count": null,
   "metadata": {
    "colab": {
     "base_uri": "https://localhost:8080/",
     "height": 92
    },
    "executionInfo": {
     "elapsed": 15940,
     "status": "ok",
     "timestamp": 1743765932304,
     "user": {
      "displayName": "Kayra",
      "userId": "10105705821450407149"
     },
     "user_tz": -180
    },
    "id": "621cVe5W6ztU",
    "outputId": "fb3f949c-bfb6-4e06-e619-500e8416fd9c"
   },
   "outputs": [],
   "source": [
    "# Değerlendirme\n",
    "eval_results = trainer.evaluate(sinama_veri_kumesi)\n",
    "print(f\"Değerlendirme sonuçları: {eval_results}\")\n",
    "\n",
    "with open(eval_sonuc_json_path, \"w\") as f:\n",
    "    json.dump(eval_results, f, indent=4)\n",
    "print(f\"Değerlendirme sonuçları {eval_sonuc_json_path} dosyasına kaydedildi.\")"
   ]
  },
  {
   "cell_type": "markdown",
   "metadata": {
    "id": "0xs4dTw46ztU"
   },
   "source": [
    "## Eğitilen modeli kaydetme"
   ]
  },
  {
   "cell_type": "code",
   "execution_count": null,
   "metadata": {
    "colab": {
     "base_uri": "https://localhost:8080/"
    },
    "executionInfo": {
     "elapsed": 4727,
     "status": "ok",
     "timestamp": 1743765937032,
     "user": {
      "displayName": "Kayra",
      "userId": "10105705821450407149"
     },
     "user_tz": -180
    },
    "id": "kvMc3MbO6ztV",
    "outputId": "115dbfda-da2a-4738-f30c-5c8bc0531376"
   },
   "outputs": [],
   "source": [
    "# Eğitilen modeli kaydet\n",
    "model.save_pretrained(model_save_path)\n",
    "tokenizer.save_pretrained(model_save_path)"
   ]
  },
  {
   "cell_type": "markdown",
   "metadata": {},
   "source": [
    "# Görselleştirme"
   ]
  },
  {
   "cell_type": "code",
   "execution_count": null,
   "metadata": {},
   "outputs": [],
   "source": [
    "import matplotlib.pyplot as plt\n",
    "import seaborn as sns"
   ]
  },
  {
   "cell_type": "markdown",
   "metadata": {},
   "source": [
    "## Json okuma fonksiyonu"
   ]
  },
  {
   "cell_type": "code",
   "execution_count": null,
   "metadata": {},
   "outputs": [],
   "source": [
    "def json_dosya_oku(dosya_yolu):\n",
    "    \"\"\"JSON dosyasını okur ve içeriğini döndürür.\"\"\"\n",
    "    with open(dosya_yolu, 'r', encoding='utf-8') as f:\n",
    "        return json.load(f)"
   ]
  },
  {
   "cell_type": "markdown",
   "metadata": {},
   "source": [
    "## Çizim tarzını ayarla"
   ]
  },
  {
   "cell_type": "code",
   "execution_count": null,
   "metadata": {},
   "outputs": [],
   "source": [
    "plt.style.use('ggplot')\n",
    "sns.set(font_scale=1.2)\n",
    "plt.rcParams['figure.figsize'] = (14, 8)\n",
    "plt.rcParams['axes.titlesize'] = 16\n",
    "plt.rcParams['font.family'] = 'DejaVu Sans'"
   ]
  },
  {
   "cell_type": "markdown",
   "metadata": {},
   "source": [
    "## Görselleştirme fonksiyonları"
   ]
  },
  {
   "cell_type": "code",
   "execution_count": null,
   "metadata": {},
   "outputs": [],
   "source": [
    "def egitim_sureci_gorsellestirilmesi(train_results, cikti_dizini = model_log_dizini):\n",
    "    \"\"\"Eğitim sürecindeki ölçütleri görselleştirir.\"\"\"\n",
    "    # Eğitim ve değerlendirme adımlarını ayıkla\n",
    "    train_steps = [x for x in train_results if 'loss' in x and 'eval_loss' not in x]\n",
    "    eval_steps = [x for x in train_results if 'eval_loss' in x and 'epoch' in x]\n",
    "    \n",
    "    # Grafikler için gerekli verileri hazırla\n",
    "    epochs_train = [step.get('epoch', 0) for step in train_steps]\n",
    "    loss_train = [step.get('loss', 0) for step in train_steps]\n",
    "    \n",
    "    epochs_eval = [step.get('epoch', 0) for step in eval_steps]\n",
    "    loss_eval = [step.get('eval_loss', 0) for step in eval_steps]\n",
    "    accuracy_eval = [step.get('eval_accuracy', 0) for step in eval_steps]\n",
    "    f1_eval = [step.get('eval_f1', 0) for step in eval_steps]\n",
    "    precision_eval = [step.get('eval_precision', 0) for step in eval_steps]\n",
    "    recall_eval = [step.get('eval_recall', 0) for step in eval_steps]\n",
    "    \n",
    "    # Kayıp (Loss) Grafiği\n",
    "    plt.figure(figsize=(14, 8))\n",
    "    plt.plot(epochs_train, loss_train, 'b-', marker='o', label='Eğitim Kaybı')\n",
    "    plt.plot(epochs_eval, loss_eval, 'r-', marker='s', label='Doğrulama Kaybı')\n",
    "    plt.xlabel('Döngü')\n",
    "    plt.ylabel('Kayıp Değeri')\n",
    "    plt.title('Eğitim ve Doğrulama Kaybının Döngü Üzerinden Değişimi', fontweight='bold')\n",
    "    plt.legend()\n",
    "    plt.grid(True)\n",
    "    plt.tight_layout()\n",
    "    plt.savefig(os.path.join(cikti_dizini, 'kayip_grafigi.png'), dpi=300, bbox_inches='tight')\n",
    "    \n",
    "    # Doğruluk, F1, Kesinlik ve Duyarlılık Grafiği\n",
    "    plt.figure(figsize=(14, 8))\n",
    "    plt.plot(epochs_eval, accuracy_eval, 'b-', marker='o', label='Doğruluk')\n",
    "    plt.plot(epochs_eval, f1_eval, 'g-', marker='s', label='F1 Skoru')\n",
    "    plt.plot(epochs_eval, precision_eval, 'r-', marker='^', label='Kesinlik')\n",
    "    plt.plot(epochs_eval, recall_eval, 'm-', marker='D', label='Duyarlılık')\n",
    "    plt.xlabel('Döngü')\n",
    "    plt.ylabel('Ölçüt Değeri')\n",
    "    plt.title('Doğrulama ölçütlerinin Döngü Üzerinden Değişimi', fontweight='bold')\n",
    "    plt.legend()\n",
    "    plt.grid(True)\n",
    "    plt.tight_layout()\n",
    "    plt.savefig(os.path.join(cikti_dizini, 'ölçütler_grafigi.png'), dpi=300, bbox_inches='tight')\n",
    "    \n",
    "    # Öğrenme Oranı Grafiği\n",
    "    if 'learning_rate' in train_steps[0]:\n",
    "        learning_rates = [step.get('learning_rate', 0) for step in train_steps]\n",
    "        plt.figure(figsize=(14, 6))\n",
    "        plt.plot(epochs_train, learning_rates, 'g-', marker='o')\n",
    "        plt.xlabel('Döngü')\n",
    "        plt.ylabel('Öğrenme Oranı')\n",
    "        plt.title('Öğrenme Oranının Döngü Üzerinden Değişimi', fontweight='bold')\n",
    "        plt.grid(True)\n",
    "        plt.tight_layout()\n",
    "        plt.savefig(os.path.join(cikti_dizini, 'ogrenme_orani_grafigi.png'), dpi=300, bbox_inches='tight')\n",
    "    plt.close('all')\n",
    "def degerlendirme_sonuclari_gorsellestirilmesi(eval_sonuc, cikti_dizini = model_log_dizini):\n",
    "    \"\"\"Değerlendirme sonuçlarını görselleştirir.\"\"\"\n",
    "    # Değerlendirme olcutlerini çıkar\n",
    "    olcutler = ['accuracy', 'f1', 'precision', 'recall']\n",
    "    olcut_isimleri = ['Doğruluk', 'F1 Skoru', 'Kesinlik', 'Duyarlılık']\n",
    "    \n",
    "    olcut_degerleri = []\n",
    "    for olcut in olcutler:\n",
    "        key = f\"eval_{olcut}\"\n",
    "        if key in eval_sonuc:\n",
    "            olcut_degerleri.append(eval_sonuc[key])\n",
    "        else:\n",
    "            olcut_degerleri.append(0)  # Eksik olcut değeri için 0\n",
    "    \n",
    "    # olcut değerlerini göster\n",
    "    plt.figure(figsize=(12, 8))\n",
    "    bars = plt.bar(olcut_isimleri, olcut_degerleri, color=['#3274A1', '#E1812C', '#3A923A', '#C03D3E'])\n",
    "    plt.ylim(0, 1.1)  # Y ekseni sınırları\n",
    "    plt.title('Model Değerlendirme Sonuçları', fontweight='bold')\n",
    "    plt.ylabel('Değer')\n",
    "    \n",
    "    # Bar üzerine değerleri ekleme\n",
    "    for bar in bars:\n",
    "        height = bar.get_height()\n",
    "        plt.text(bar.get_x() + bar.get_width()/2., height + 0.02,\n",
    "                f'{height:.4f}', ha='center', va='bottom', fontsize=12)\n",
    "    \n",
    "    plt.grid(axis='y')\n",
    "    plt.tight_layout()\n",
    "    plt.savefig(os.path.join(cikti_dizini, 'degerlendirme_sonuclari.png'), dpi=300, bbox_inches='tight')\n",
    "    \n",
    "    # Kayıp ve çalışma süresi grafiği\n",
    "    if 'eval_loss' in eval_sonuc and 'eval_runtime' in eval_sonuc:\n",
    "        plt.figure(figsize=(10, 6))\n",
    "        plt.bar(['Kayıp', 'Çalışma Süresi (sn)'], \n",
    "                [eval_sonuc['eval_loss'], eval_sonuc['eval_runtime']], \n",
    "                color=['#C03D3E', '#3274A1'])\n",
    "        plt.title('Değerlendirme Kaybı ve Çalışma Süresi', fontweight='bold')\n",
    "        plt.grid(axis='y')\n",
    "        plt.tight_layout()\n",
    "        plt.savefig(os.path.join(cikti_dizini, 'kayip_ve_sure.png'), dpi=300, bbox_inches='tight')\n",
    "    plt.close('all')\n",
    "def egitim_ozet_tablosu(train_results, eval_sonuc, cikti_dizini = model_log_dizini):\n",
    "    \"\"\"Eğitim sürecinin özet tablosunu oluşturur ve kaydeder.\"\"\"\n",
    "    # Son eğitim Ölçütleri\n",
    "    son_egitim = None\n",
    "    for step in reversed(train_results):\n",
    "        if 'train_runtime' in step:\n",
    "            son_egitim = step\n",
    "            break\n",
    "    \n",
    "    if son_egitim:\n",
    "        # Tablo verilerini hazırla\n",
    "        data = {\n",
    "            'Ölçüt': ['Eğitim Süresi (sn)', 'Ör./sn', 'Adım/sn', 'Toplam FLOPS', \n",
    "                      'Son Kayıp', 'Son Döngü', 'Doğruluk', 'F1 Skoru'],\n",
    "            'Değer': [\n",
    "                son_egitim.get('train_runtime', 'N/A'),\n",
    "                son_egitim.get('train_samples_per_second', 'N/A'),\n",
    "                son_egitim.get('train_steps_per_second', 'N/A'),\n",
    "                f\"{son_egitim.get('total_flos', 0) / 1e12:.2f} T\" if 'total_flos' in son_egitim else 'N/A',\n",
    "                son_egitim.get('train_loss', 'N/A'),\n",
    "                son_egitim.get('epoch', 'N/A'),\n",
    "                eval_sonuc.get('eval_accuracy', 'N/A'),\n",
    "                eval_sonuc.get('eval_f1', 'N/A')\n",
    "            ]\n",
    "        }\n",
    "        \n",
    "        # DataFrame oluştur\n",
    "        df = pd.DataFrame(data)\n",
    "        \n",
    "        # Tabloyu görselleştir\n",
    "        plt.figure(figsize=(10, 6))\n",
    "        table = plt.table(cellText=df.values, colLabels=df.columns, \n",
    "                         loc='center', cellLoc='center')\n",
    "        table.auto_set_font_size(False)\n",
    "        table.set_fontsize(12)\n",
    "        table.scale(1, 1.5)\n",
    "        plt.axis('off')\n",
    "        plt.title('Eğitim Özet Tablosu', fontweight='bold', y=0.9)\n",
    "        plt.tight_layout()\n",
    "        plt.savefig(os.path.join(cikti_dizini, 'egitim_ozeti.png'), dpi=300, bbox_inches='tight')\n",
    "        plt.close('all')"
   ]
  },
  {
   "cell_type": "markdown",
   "metadata": {},
   "source": [
    "## Sonuçları oku ve görselleştir"
   ]
  },
  {
   "cell_type": "code",
   "execution_count": null,
   "metadata": {},
   "outputs": [],
   "source": [
    "train_results = json_dosya_oku(train_sonuc_json_path)\n",
    "eval_sonuc = json_dosya_oku(eval_sonuc_json_path)"
   ]
  },
  {
   "cell_type": "code",
   "execution_count": null,
   "metadata": {},
   "outputs": [],
   "source": [
    "# Görselleştirmeleri oluştur\n",
    "print(\"Eğitim süreci görselleştiriliyor...\")\n",
    "egitim_sureci_gorsellestirilmesi(train_results)\n",
    "\n",
    "print(\"Değerlendirme sonuçları görselleştiriliyor...\")\n",
    "degerlendirme_sonuclari_gorsellestirilmesi(eval_sonuc)\n",
    "\n",
    "print(\"Eğitim özet tablosu oluşturuluyor...\")\n",
    "egitim_ozet_tablosu(train_results, eval_sonuc)"
   ]
  }
 ],
 "metadata": {
  "accelerator": "GPU",
  "colab": {
   "gpuType": "T4",
   "provenance": []
  },
  "kernelspec": {
   "display_name": "Python 3",
   "name": "python3"
  },
  "language_info": {
   "codemirror_mode": {
    "name": "ipython",
    "version": 3
   },
   "file_extension": ".py",
   "mimetype": "text/x-python",
   "name": "python",
   "nbconvert_exporter": "python",
   "pygments_lexer": "ipython3",
   "version": "3.12.9"
  },
  "widgets": {
   "application/vnd.jupyter.widget-state+json": {
    "183ebea22f604a93b5254ae3f6aeb8d5": {
     "model_module": "@jupyter-widgets/controls",
     "model_module_version": "1.5.0",
     "model_name": "DescriptionStyleModel",
     "state": {
      "_model_module": "@jupyter-widgets/controls",
      "_model_module_version": "1.5.0",
      "_model_name": "DescriptionStyleModel",
      "_view_count": null,
      "_view_module": "@jupyter-widgets/base",
      "_view_module_version": "1.2.0",
      "_view_name": "StyleView",
      "description_width": ""
     }
    },
    "18f0c63a4cf74cc6a261da2c90f532ec": {
     "model_module": "@jupyter-widgets/controls",
     "model_module_version": "1.5.0",
     "model_name": "HBoxModel",
     "state": {
      "_dom_classes": [],
      "_model_module": "@jupyter-widgets/controls",
      "_model_module_version": "1.5.0",
      "_model_name": "HBoxModel",
      "_view_count": null,
      "_view_module": "@jupyter-widgets/controls",
      "_view_module_version": "1.5.0",
      "_view_name": "HBoxView",
      "box_style": "",
      "children": [
       "IPY_MODEL_a14e3187e2914f4992c4117c7f4a7afc",
       "IPY_MODEL_1affa53018c641dca72fc75a77eeaee6",
       "IPY_MODEL_e571554acf6a4105998680f60c98fe23"
      ],
      "layout": "IPY_MODEL_989d67057ad74852a618a96c7084cd6c"
     }
    },
    "1affa53018c641dca72fc75a77eeaee6": {
     "model_module": "@jupyter-widgets/controls",
     "model_module_version": "1.5.0",
     "model_name": "FloatProgressModel",
     "state": {
      "_dom_classes": [],
      "_model_module": "@jupyter-widgets/controls",
      "_model_module_version": "1.5.0",
      "_model_name": "FloatProgressModel",
      "_view_count": null,
      "_view_module": "@jupyter-widgets/controls",
      "_view_module_version": "1.5.0",
      "_view_name": "ProgressView",
      "bar_style": "success",
      "description": "",
      "description_tooltip": null,
      "layout": "IPY_MODEL_5e74c2ccd5874be7a329a05c59b8bdfa",
      "max": 3803,
      "min": 0,
      "orientation": "horizontal",
      "style": "IPY_MODEL_db89cb442cac4c6e991c127d0c27a8b6",
      "value": 3803
     }
    },
    "1cba529726b24083b8d0ab3828f5b60a": {
     "model_module": "@jupyter-widgets/controls",
     "model_module_version": "1.5.0",
     "model_name": "DescriptionStyleModel",
     "state": {
      "_model_module": "@jupyter-widgets/controls",
      "_model_module_version": "1.5.0",
      "_model_name": "DescriptionStyleModel",
      "_view_count": null,
      "_view_module": "@jupyter-widgets/base",
      "_view_module_version": "1.2.0",
      "_view_name": "StyleView",
      "description_width": ""
     }
    },
    "1f77302033a34ba5bce9df860022ae44": {
     "model_module": "@jupyter-widgets/controls",
     "model_module_version": "1.5.0",
     "model_name": "DescriptionStyleModel",
     "state": {
      "_model_module": "@jupyter-widgets/controls",
      "_model_module_version": "1.5.0",
      "_model_name": "DescriptionStyleModel",
      "_view_count": null,
      "_view_module": "@jupyter-widgets/base",
      "_view_module_version": "1.2.0",
      "_view_name": "StyleView",
      "description_width": ""
     }
    },
    "2a466e882c1a43d7ae31ff8be78705a6": {
     "model_module": "@jupyter-widgets/controls",
     "model_module_version": "1.5.0",
     "model_name": "HTMLModel",
     "state": {
      "_dom_classes": [],
      "_model_module": "@jupyter-widgets/controls",
      "_model_module_version": "1.5.0",
      "_model_name": "HTMLModel",
      "_view_count": null,
      "_view_module": "@jupyter-widgets/controls",
      "_view_module_version": "1.5.0",
      "_view_name": "HTMLView",
      "description": "",
      "description_tooltip": null,
      "layout": "IPY_MODEL_9df6f6ae1e3948369cd1a24cbd25a399",
      "placeholder": "​",
      "style": "IPY_MODEL_1cba529726b24083b8d0ab3828f5b60a",
      "value": " 474/474 [00:00&lt;00:00, 506.53 examples/s]"
     }
    },
    "41a2c2f79f7941afb0fdcee1c6d84040": {
     "model_module": "@jupyter-widgets/controls",
     "model_module_version": "1.5.0",
     "model_name": "ProgressStyleModel",
     "state": {
      "_model_module": "@jupyter-widgets/controls",
      "_model_module_version": "1.5.0",
      "_model_name": "ProgressStyleModel",
      "_view_count": null,
      "_view_module": "@jupyter-widgets/base",
      "_view_module_version": "1.2.0",
      "_view_name": "StyleView",
      "bar_color": null,
      "description_width": ""
     }
    },
    "423123def03b45a486f47b2ba55360ad": {
     "model_module": "@jupyter-widgets/base",
     "model_module_version": "1.2.0",
     "model_name": "LayoutModel",
     "state": {
      "_model_module": "@jupyter-widgets/base",
      "_model_module_version": "1.2.0",
      "_model_name": "LayoutModel",
      "_view_count": null,
      "_view_module": "@jupyter-widgets/base",
      "_view_module_version": "1.2.0",
      "_view_name": "LayoutView",
      "align_content": null,
      "align_items": null,
      "align_self": null,
      "border": null,
      "bottom": null,
      "display": null,
      "flex": null,
      "flex_flow": null,
      "grid_area": null,
      "grid_auto_columns": null,
      "grid_auto_flow": null,
      "grid_auto_rows": null,
      "grid_column": null,
      "grid_gap": null,
      "grid_row": null,
      "grid_template_areas": null,
      "grid_template_columns": null,
      "grid_template_rows": null,
      "height": null,
      "justify_content": null,
      "justify_items": null,
      "left": null,
      "margin": null,
      "max_height": null,
      "max_width": null,
      "min_height": null,
      "min_width": null,
      "object_fit": null,
      "object_position": null,
      "order": null,
      "overflow": null,
      "overflow_x": null,
      "overflow_y": null,
      "padding": null,
      "right": null,
      "top": null,
      "visibility": null,
      "width": null
     }
    },
    "502a7958fe1b41129c6777a7c2a44db8": {
     "model_module": "@jupyter-widgets/controls",
     "model_module_version": "1.5.0",
     "model_name": "FloatProgressModel",
     "state": {
      "_dom_classes": [],
      "_model_module": "@jupyter-widgets/controls",
      "_model_module_version": "1.5.0",
      "_model_name": "FloatProgressModel",
      "_view_count": null,
      "_view_module": "@jupyter-widgets/controls",
      "_view_module_version": "1.5.0",
      "_view_name": "ProgressView",
      "bar_style": "success",
      "description": "",
      "description_tooltip": null,
      "layout": "IPY_MODEL_fcf75c4031a84d1a9c51cc89c5fc8858",
      "max": 474,
      "min": 0,
      "orientation": "horizontal",
      "style": "IPY_MODEL_7dc45830ca58445691ecff7edd040acb",
      "value": 474
     }
    },
    "5e74c2ccd5874be7a329a05c59b8bdfa": {
     "model_module": "@jupyter-widgets/base",
     "model_module_version": "1.2.0",
     "model_name": "LayoutModel",
     "state": {
      "_model_module": "@jupyter-widgets/base",
      "_model_module_version": "1.2.0",
      "_model_name": "LayoutModel",
      "_view_count": null,
      "_view_module": "@jupyter-widgets/base",
      "_view_module_version": "1.2.0",
      "_view_name": "LayoutView",
      "align_content": null,
      "align_items": null,
      "align_self": null,
      "border": null,
      "bottom": null,
      "display": null,
      "flex": null,
      "flex_flow": null,
      "grid_area": null,
      "grid_auto_columns": null,
      "grid_auto_flow": null,
      "grid_auto_rows": null,
      "grid_column": null,
      "grid_gap": null,
      "grid_row": null,
      "grid_template_areas": null,
      "grid_template_columns": null,
      "grid_template_rows": null,
      "height": null,
      "justify_content": null,
      "justify_items": null,
      "left": null,
      "margin": null,
      "max_height": null,
      "max_width": null,
      "min_height": null,
      "min_width": null,
      "object_fit": null,
      "object_position": null,
      "order": null,
      "overflow": null,
      "overflow_x": null,
      "overflow_y": null,
      "padding": null,
      "right": null,
      "top": null,
      "visibility": null,
      "width": null
     }
    },
    "5fc74e2cce874fb78e9fc1b3cdb60026": {
     "model_module": "@jupyter-widgets/controls",
     "model_module_version": "1.5.0",
     "model_name": "HTMLModel",
     "state": {
      "_dom_classes": [],
      "_model_module": "@jupyter-widgets/controls",
      "_model_module_version": "1.5.0",
      "_model_name": "HTMLModel",
      "_view_count": null,
      "_view_module": "@jupyter-widgets/controls",
      "_view_module_version": "1.5.0",
      "_view_name": "HTMLView",
      "description": "",
      "description_tooltip": null,
      "layout": "IPY_MODEL_8370ddb7e8984c368347fefcdc5bed5c",
      "placeholder": "​",
      "style": "IPY_MODEL_e47fda2bd55d4116a2e15b2c59521c85",
      "value": " 474/474 [00:01&lt;00:00, 474.87 examples/s]"
     }
    },
    "6d440c1fa76c4164ab7b92d540a8f322": {
     "model_module": "@jupyter-widgets/controls",
     "model_module_version": "1.5.0",
     "model_name": "DescriptionStyleModel",
     "state": {
      "_model_module": "@jupyter-widgets/controls",
      "_model_module_version": "1.5.0",
      "_model_name": "DescriptionStyleModel",
      "_view_count": null,
      "_view_module": "@jupyter-widgets/base",
      "_view_module_version": "1.2.0",
      "_view_name": "StyleView",
      "description_width": ""
     }
    },
    "71f3246b6a874f7088a72d65fa679e1e": {
     "model_module": "@jupyter-widgets/controls",
     "model_module_version": "1.5.0",
     "model_name": "HBoxModel",
     "state": {
      "_dom_classes": [],
      "_model_module": "@jupyter-widgets/controls",
      "_model_module_version": "1.5.0",
      "_model_name": "HBoxModel",
      "_view_count": null,
      "_view_module": "@jupyter-widgets/controls",
      "_view_module_version": "1.5.0",
      "_view_name": "HBoxView",
      "box_style": "",
      "children": [
       "IPY_MODEL_acdc7d0527414191bba7fda993aea7fb",
       "IPY_MODEL_cc8662c72625454fa4fe9d5298ecd2b4",
       "IPY_MODEL_5fc74e2cce874fb78e9fc1b3cdb60026"
      ],
      "layout": "IPY_MODEL_fe873d9c865c482dbb843c84b96ffd95"
     }
    },
    "74be7032e45441f49657bb27ac42530c": {
     "model_module": "@jupyter-widgets/base",
     "model_module_version": "1.2.0",
     "model_name": "LayoutModel",
     "state": {
      "_model_module": "@jupyter-widgets/base",
      "_model_module_version": "1.2.0",
      "_model_name": "LayoutModel",
      "_view_count": null,
      "_view_module": "@jupyter-widgets/base",
      "_view_module_version": "1.2.0",
      "_view_name": "LayoutView",
      "align_content": null,
      "align_items": null,
      "align_self": null,
      "border": null,
      "bottom": null,
      "display": null,
      "flex": null,
      "flex_flow": null,
      "grid_area": null,
      "grid_auto_columns": null,
      "grid_auto_flow": null,
      "grid_auto_rows": null,
      "grid_column": null,
      "grid_gap": null,
      "grid_row": null,
      "grid_template_areas": null,
      "grid_template_columns": null,
      "grid_template_rows": null,
      "height": null,
      "justify_content": null,
      "justify_items": null,
      "left": null,
      "margin": null,
      "max_height": null,
      "max_width": null,
      "min_height": null,
      "min_width": null,
      "object_fit": null,
      "object_position": null,
      "order": null,
      "overflow": null,
      "overflow_x": null,
      "overflow_y": null,
      "padding": null,
      "right": null,
      "top": null,
      "visibility": null,
      "width": null
     }
    },
    "7a74fd3675944fe3ab949f66bc409c14": {
     "model_module": "@jupyter-widgets/controls",
     "model_module_version": "1.5.0",
     "model_name": "DescriptionStyleModel",
     "state": {
      "_model_module": "@jupyter-widgets/controls",
      "_model_module_version": "1.5.0",
      "_model_name": "DescriptionStyleModel",
      "_view_count": null,
      "_view_module": "@jupyter-widgets/base",
      "_view_module_version": "1.2.0",
      "_view_name": "StyleView",
      "description_width": ""
     }
    },
    "7dc45830ca58445691ecff7edd040acb": {
     "model_module": "@jupyter-widgets/controls",
     "model_module_version": "1.5.0",
     "model_name": "ProgressStyleModel",
     "state": {
      "_model_module": "@jupyter-widgets/controls",
      "_model_module_version": "1.5.0",
      "_model_name": "ProgressStyleModel",
      "_view_count": null,
      "_view_module": "@jupyter-widgets/base",
      "_view_module_version": "1.2.0",
      "_view_name": "StyleView",
      "bar_color": null,
      "description_width": ""
     }
    },
    "8370ddb7e8984c368347fefcdc5bed5c": {
     "model_module": "@jupyter-widgets/base",
     "model_module_version": "1.2.0",
     "model_name": "LayoutModel",
     "state": {
      "_model_module": "@jupyter-widgets/base",
      "_model_module_version": "1.2.0",
      "_model_name": "LayoutModel",
      "_view_count": null,
      "_view_module": "@jupyter-widgets/base",
      "_view_module_version": "1.2.0",
      "_view_name": "LayoutView",
      "align_content": null,
      "align_items": null,
      "align_self": null,
      "border": null,
      "bottom": null,
      "display": null,
      "flex": null,
      "flex_flow": null,
      "grid_area": null,
      "grid_auto_columns": null,
      "grid_auto_flow": null,
      "grid_auto_rows": null,
      "grid_column": null,
      "grid_gap": null,
      "grid_row": null,
      "grid_template_areas": null,
      "grid_template_columns": null,
      "grid_template_rows": null,
      "height": null,
      "justify_content": null,
      "justify_items": null,
      "left": null,
      "margin": null,
      "max_height": null,
      "max_width": null,
      "min_height": null,
      "min_width": null,
      "object_fit": null,
      "object_position": null,
      "order": null,
      "overflow": null,
      "overflow_x": null,
      "overflow_y": null,
      "padding": null,
      "right": null,
      "top": null,
      "visibility": null,
      "width": null
     }
    },
    "989d67057ad74852a618a96c7084cd6c": {
     "model_module": "@jupyter-widgets/base",
     "model_module_version": "1.2.0",
     "model_name": "LayoutModel",
     "state": {
      "_model_module": "@jupyter-widgets/base",
      "_model_module_version": "1.2.0",
      "_model_name": "LayoutModel",
      "_view_count": null,
      "_view_module": "@jupyter-widgets/base",
      "_view_module_version": "1.2.0",
      "_view_name": "LayoutView",
      "align_content": null,
      "align_items": null,
      "align_self": null,
      "border": null,
      "bottom": null,
      "display": null,
      "flex": null,
      "flex_flow": null,
      "grid_area": null,
      "grid_auto_columns": null,
      "grid_auto_flow": null,
      "grid_auto_rows": null,
      "grid_column": null,
      "grid_gap": null,
      "grid_row": null,
      "grid_template_areas": null,
      "grid_template_columns": null,
      "grid_template_rows": null,
      "height": null,
      "justify_content": null,
      "justify_items": null,
      "left": null,
      "margin": null,
      "max_height": null,
      "max_width": null,
      "min_height": null,
      "min_width": null,
      "object_fit": null,
      "object_position": null,
      "order": null,
      "overflow": null,
      "overflow_x": null,
      "overflow_y": null,
      "padding": null,
      "right": null,
      "top": null,
      "visibility": null,
      "width": null
     }
    },
    "9df6f6ae1e3948369cd1a24cbd25a399": {
     "model_module": "@jupyter-widgets/base",
     "model_module_version": "1.2.0",
     "model_name": "LayoutModel",
     "state": {
      "_model_module": "@jupyter-widgets/base",
      "_model_module_version": "1.2.0",
      "_model_name": "LayoutModel",
      "_view_count": null,
      "_view_module": "@jupyter-widgets/base",
      "_view_module_version": "1.2.0",
      "_view_name": "LayoutView",
      "align_content": null,
      "align_items": null,
      "align_self": null,
      "border": null,
      "bottom": null,
      "display": null,
      "flex": null,
      "flex_flow": null,
      "grid_area": null,
      "grid_auto_columns": null,
      "grid_auto_flow": null,
      "grid_auto_rows": null,
      "grid_column": null,
      "grid_gap": null,
      "grid_row": null,
      "grid_template_areas": null,
      "grid_template_columns": null,
      "grid_template_rows": null,
      "height": null,
      "justify_content": null,
      "justify_items": null,
      "left": null,
      "margin": null,
      "max_height": null,
      "max_width": null,
      "min_height": null,
      "min_width": null,
      "object_fit": null,
      "object_position": null,
      "order": null,
      "overflow": null,
      "overflow_x": null,
      "overflow_y": null,
      "padding": null,
      "right": null,
      "top": null,
      "visibility": null,
      "width": null
     }
    },
    "a14e3187e2914f4992c4117c7f4a7afc": {
     "model_module": "@jupyter-widgets/controls",
     "model_module_version": "1.5.0",
     "model_name": "HTMLModel",
     "state": {
      "_dom_classes": [],
      "_model_module": "@jupyter-widgets/controls",
      "_model_module_version": "1.5.0",
      "_model_name": "HTMLModel",
      "_view_count": null,
      "_view_module": "@jupyter-widgets/controls",
      "_view_module_version": "1.5.0",
      "_view_name": "HTMLView",
      "description": "",
      "description_tooltip": null,
      "layout": "IPY_MODEL_b85daea75195491abe42e5e982afc10b",
      "placeholder": "​",
      "style": "IPY_MODEL_7a74fd3675944fe3ab949f66bc409c14",
      "value": "Map: 100%"
     }
    },
    "acdc7d0527414191bba7fda993aea7fb": {
     "model_module": "@jupyter-widgets/controls",
     "model_module_version": "1.5.0",
     "model_name": "HTMLModel",
     "state": {
      "_dom_classes": [],
      "_model_module": "@jupyter-widgets/controls",
      "_model_module_version": "1.5.0",
      "_model_name": "HTMLModel",
      "_view_count": null,
      "_view_module": "@jupyter-widgets/controls",
      "_view_module_version": "1.5.0",
      "_view_name": "HTMLView",
      "description": "",
      "description_tooltip": null,
      "layout": "IPY_MODEL_e7e1e474613a49198ef7f3bf9e2dedec",
      "placeholder": "​",
      "style": "IPY_MODEL_1f77302033a34ba5bce9df860022ae44",
      "value": "Map: 100%"
     }
    },
    "b85daea75195491abe42e5e982afc10b": {
     "model_module": "@jupyter-widgets/base",
     "model_module_version": "1.2.0",
     "model_name": "LayoutModel",
     "state": {
      "_model_module": "@jupyter-widgets/base",
      "_model_module_version": "1.2.0",
      "_model_name": "LayoutModel",
      "_view_count": null,
      "_view_module": "@jupyter-widgets/base",
      "_view_module_version": "1.2.0",
      "_view_name": "LayoutView",
      "align_content": null,
      "align_items": null,
      "align_self": null,
      "border": null,
      "bottom": null,
      "display": null,
      "flex": null,
      "flex_flow": null,
      "grid_area": null,
      "grid_auto_columns": null,
      "grid_auto_flow": null,
      "grid_auto_rows": null,
      "grid_column": null,
      "grid_gap": null,
      "grid_row": null,
      "grid_template_areas": null,
      "grid_template_columns": null,
      "grid_template_rows": null,
      "height": null,
      "justify_content": null,
      "justify_items": null,
      "left": null,
      "margin": null,
      "max_height": null,
      "max_width": null,
      "min_height": null,
      "min_width": null,
      "object_fit": null,
      "object_position": null,
      "order": null,
      "overflow": null,
      "overflow_x": null,
      "overflow_y": null,
      "padding": null,
      "right": null,
      "top": null,
      "visibility": null,
      "width": null
     }
    },
    "c893cddf83154b56a5d11146dfa44046": {
     "model_module": "@jupyter-widgets/controls",
     "model_module_version": "1.5.0",
     "model_name": "HTMLModel",
     "state": {
      "_dom_classes": [],
      "_model_module": "@jupyter-widgets/controls",
      "_model_module_version": "1.5.0",
      "_model_name": "HTMLModel",
      "_view_count": null,
      "_view_module": "@jupyter-widgets/controls",
      "_view_module_version": "1.5.0",
      "_view_name": "HTMLView",
      "description": "",
      "description_tooltip": null,
      "layout": "IPY_MODEL_74be7032e45441f49657bb27ac42530c",
      "placeholder": "​",
      "style": "IPY_MODEL_6d440c1fa76c4164ab7b92d540a8f322",
      "value": "Map: 100%"
     }
    },
    "ca606e08b59041ea9b8226459bab3e88": {
     "model_module": "@jupyter-widgets/base",
     "model_module_version": "1.2.0",
     "model_name": "LayoutModel",
     "state": {
      "_model_module": "@jupyter-widgets/base",
      "_model_module_version": "1.2.0",
      "_model_name": "LayoutModel",
      "_view_count": null,
      "_view_module": "@jupyter-widgets/base",
      "_view_module_version": "1.2.0",
      "_view_name": "LayoutView",
      "align_content": null,
      "align_items": null,
      "align_self": null,
      "border": null,
      "bottom": null,
      "display": null,
      "flex": null,
      "flex_flow": null,
      "grid_area": null,
      "grid_auto_columns": null,
      "grid_auto_flow": null,
      "grid_auto_rows": null,
      "grid_column": null,
      "grid_gap": null,
      "grid_row": null,
      "grid_template_areas": null,
      "grid_template_columns": null,
      "grid_template_rows": null,
      "height": null,
      "justify_content": null,
      "justify_items": null,
      "left": null,
      "margin": null,
      "max_height": null,
      "max_width": null,
      "min_height": null,
      "min_width": null,
      "object_fit": null,
      "object_position": null,
      "order": null,
      "overflow": null,
      "overflow_x": null,
      "overflow_y": null,
      "padding": null,
      "right": null,
      "top": null,
      "visibility": null,
      "width": null
     }
    },
    "cc8662c72625454fa4fe9d5298ecd2b4": {
     "model_module": "@jupyter-widgets/controls",
     "model_module_version": "1.5.0",
     "model_name": "FloatProgressModel",
     "state": {
      "_dom_classes": [],
      "_model_module": "@jupyter-widgets/controls",
      "_model_module_version": "1.5.0",
      "_model_name": "FloatProgressModel",
      "_view_count": null,
      "_view_module": "@jupyter-widgets/controls",
      "_view_module_version": "1.5.0",
      "_view_name": "ProgressView",
      "bar_style": "success",
      "description": "",
      "description_tooltip": null,
      "layout": "IPY_MODEL_ca606e08b59041ea9b8226459bab3e88",
      "max": 474,
      "min": 0,
      "orientation": "horizontal",
      "style": "IPY_MODEL_41a2c2f79f7941afb0fdcee1c6d84040",
      "value": 474
     }
    },
    "d6aecfbcce3d42dab92c306371cab15c": {
     "model_module": "@jupyter-widgets/controls",
     "model_module_version": "1.5.0",
     "model_name": "HBoxModel",
     "state": {
      "_dom_classes": [],
      "_model_module": "@jupyter-widgets/controls",
      "_model_module_version": "1.5.0",
      "_model_name": "HBoxModel",
      "_view_count": null,
      "_view_module": "@jupyter-widgets/controls",
      "_view_module_version": "1.5.0",
      "_view_name": "HBoxView",
      "box_style": "",
      "children": [
       "IPY_MODEL_c893cddf83154b56a5d11146dfa44046",
       "IPY_MODEL_502a7958fe1b41129c6777a7c2a44db8",
       "IPY_MODEL_2a466e882c1a43d7ae31ff8be78705a6"
      ],
      "layout": "IPY_MODEL_d8ef7ae163aa401199e43d809e2f3b68"
     }
    },
    "d8ef7ae163aa401199e43d809e2f3b68": {
     "model_module": "@jupyter-widgets/base",
     "model_module_version": "1.2.0",
     "model_name": "LayoutModel",
     "state": {
      "_model_module": "@jupyter-widgets/base",
      "_model_module_version": "1.2.0",
      "_model_name": "LayoutModel",
      "_view_count": null,
      "_view_module": "@jupyter-widgets/base",
      "_view_module_version": "1.2.0",
      "_view_name": "LayoutView",
      "align_content": null,
      "align_items": null,
      "align_self": null,
      "border": null,
      "bottom": null,
      "display": null,
      "flex": null,
      "flex_flow": null,
      "grid_area": null,
      "grid_auto_columns": null,
      "grid_auto_flow": null,
      "grid_auto_rows": null,
      "grid_column": null,
      "grid_gap": null,
      "grid_row": null,
      "grid_template_areas": null,
      "grid_template_columns": null,
      "grid_template_rows": null,
      "height": null,
      "justify_content": null,
      "justify_items": null,
      "left": null,
      "margin": null,
      "max_height": null,
      "max_width": null,
      "min_height": null,
      "min_width": null,
      "object_fit": null,
      "object_position": null,
      "order": null,
      "overflow": null,
      "overflow_x": null,
      "overflow_y": null,
      "padding": null,
      "right": null,
      "top": null,
      "visibility": null,
      "width": null
     }
    },
    "db89cb442cac4c6e991c127d0c27a8b6": {
     "model_module": "@jupyter-widgets/controls",
     "model_module_version": "1.5.0",
     "model_name": "ProgressStyleModel",
     "state": {
      "_model_module": "@jupyter-widgets/controls",
      "_model_module_version": "1.5.0",
      "_model_name": "ProgressStyleModel",
      "_view_count": null,
      "_view_module": "@jupyter-widgets/base",
      "_view_module_version": "1.2.0",
      "_view_name": "StyleView",
      "bar_color": null,
      "description_width": ""
     }
    },
    "e47fda2bd55d4116a2e15b2c59521c85": {
     "model_module": "@jupyter-widgets/controls",
     "model_module_version": "1.5.0",
     "model_name": "DescriptionStyleModel",
     "state": {
      "_model_module": "@jupyter-widgets/controls",
      "_model_module_version": "1.5.0",
      "_model_name": "DescriptionStyleModel",
      "_view_count": null,
      "_view_module": "@jupyter-widgets/base",
      "_view_module_version": "1.2.0",
      "_view_name": "StyleView",
      "description_width": ""
     }
    },
    "e571554acf6a4105998680f60c98fe23": {
     "model_module": "@jupyter-widgets/controls",
     "model_module_version": "1.5.0",
     "model_name": "HTMLModel",
     "state": {
      "_dom_classes": [],
      "_model_module": "@jupyter-widgets/controls",
      "_model_module_version": "1.5.0",
      "_model_name": "HTMLModel",
      "_view_count": null,
      "_view_module": "@jupyter-widgets/controls",
      "_view_module_version": "1.5.0",
      "_view_name": "HTMLView",
      "description": "",
      "description_tooltip": null,
      "layout": "IPY_MODEL_423123def03b45a486f47b2ba55360ad",
      "placeholder": "​",
      "style": "IPY_MODEL_183ebea22f604a93b5254ae3f6aeb8d5",
      "value": " 3803/3803 [00:07&lt;00:00, 534.08 examples/s]"
     }
    },
    "e7e1e474613a49198ef7f3bf9e2dedec": {
     "model_module": "@jupyter-widgets/base",
     "model_module_version": "1.2.0",
     "model_name": "LayoutModel",
     "state": {
      "_model_module": "@jupyter-widgets/base",
      "_model_module_version": "1.2.0",
      "_model_name": "LayoutModel",
      "_view_count": null,
      "_view_module": "@jupyter-widgets/base",
      "_view_module_version": "1.2.0",
      "_view_name": "LayoutView",
      "align_content": null,
      "align_items": null,
      "align_self": null,
      "border": null,
      "bottom": null,
      "display": null,
      "flex": null,
      "flex_flow": null,
      "grid_area": null,
      "grid_auto_columns": null,
      "grid_auto_flow": null,
      "grid_auto_rows": null,
      "grid_column": null,
      "grid_gap": null,
      "grid_row": null,
      "grid_template_areas": null,
      "grid_template_columns": null,
      "grid_template_rows": null,
      "height": null,
      "justify_content": null,
      "justify_items": null,
      "left": null,
      "margin": null,
      "max_height": null,
      "max_width": null,
      "min_height": null,
      "min_width": null,
      "object_fit": null,
      "object_position": null,
      "order": null,
      "overflow": null,
      "overflow_x": null,
      "overflow_y": null,
      "padding": null,
      "right": null,
      "top": null,
      "visibility": null,
      "width": null
     }
    },
    "fcf75c4031a84d1a9c51cc89c5fc8858": {
     "model_module": "@jupyter-widgets/base",
     "model_module_version": "1.2.0",
     "model_name": "LayoutModel",
     "state": {
      "_model_module": "@jupyter-widgets/base",
      "_model_module_version": "1.2.0",
      "_model_name": "LayoutModel",
      "_view_count": null,
      "_view_module": "@jupyter-widgets/base",
      "_view_module_version": "1.2.0",
      "_view_name": "LayoutView",
      "align_content": null,
      "align_items": null,
      "align_self": null,
      "border": null,
      "bottom": null,
      "display": null,
      "flex": null,
      "flex_flow": null,
      "grid_area": null,
      "grid_auto_columns": null,
      "grid_auto_flow": null,
      "grid_auto_rows": null,
      "grid_column": null,
      "grid_gap": null,
      "grid_row": null,
      "grid_template_areas": null,
      "grid_template_columns": null,
      "grid_template_rows": null,
      "height": null,
      "justify_content": null,
      "justify_items": null,
      "left": null,
      "margin": null,
      "max_height": null,
      "max_width": null,
      "min_height": null,
      "min_width": null,
      "object_fit": null,
      "object_position": null,
      "order": null,
      "overflow": null,
      "overflow_x": null,
      "overflow_y": null,
      "padding": null,
      "right": null,
      "top": null,
      "visibility": null,
      "width": null
     }
    },
    "fe873d9c865c482dbb843c84b96ffd95": {
     "model_module": "@jupyter-widgets/base",
     "model_module_version": "1.2.0",
     "model_name": "LayoutModel",
     "state": {
      "_model_module": "@jupyter-widgets/base",
      "_model_module_version": "1.2.0",
      "_model_name": "LayoutModel",
      "_view_count": null,
      "_view_module": "@jupyter-widgets/base",
      "_view_module_version": "1.2.0",
      "_view_name": "LayoutView",
      "align_content": null,
      "align_items": null,
      "align_self": null,
      "border": null,
      "bottom": null,
      "display": null,
      "flex": null,
      "flex_flow": null,
      "grid_area": null,
      "grid_auto_columns": null,
      "grid_auto_flow": null,
      "grid_auto_rows": null,
      "grid_column": null,
      "grid_gap": null,
      "grid_row": null,
      "grid_template_areas": null,
      "grid_template_columns": null,
      "grid_template_rows": null,
      "height": null,
      "justify_content": null,
      "justify_items": null,
      "left": null,
      "margin": null,
      "max_height": null,
      "max_width": null,
      "min_height": null,
      "min_width": null,
      "object_fit": null,
      "object_position": null,
      "order": null,
      "overflow": null,
      "overflow_x": null,
      "overflow_y": null,
      "padding": null,
      "right": null,
      "top": null,
      "visibility": null,
      "width": null
     }
    }
   }
  }
 },
 "nbformat": 4,
 "nbformat_minor": 0
}
