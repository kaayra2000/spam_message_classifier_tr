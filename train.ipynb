{
 "cells": [
  {
   "cell_type": "markdown",
   "metadata": {
    "id": "zTPbBD456ztL"
   },
   "source": [
    "# Giriş İşlemleri"
   ]
  },
  {
   "cell_type": "code",
   "execution_count": null,
   "metadata": {
    "executionInfo": {
     "elapsed": 5184,
     "status": "ok",
     "timestamp": 1743755980404,
     "user": {
      "displayName": "Kayra",
      "userId": "10105705821450407149"
     },
     "user_tz": -180
    },
    "id": "NS_7WkSw6ztO"
   },
   "outputs": [],
   "source": [
    "%%capture\n",
    "!pip install kagglehub pandas datasets scikit-learn torch transformers[torch]"
   ]
  },
  {
   "cell_type": "code",
   "execution_count": null,
   "metadata": {
    "executionInfo": {
     "elapsed": 16203,
     "status": "ok",
     "timestamp": 1743755996606,
     "user": {
      "displayName": "Kayra",
      "userId": "10105705821450407149"
     },
     "user_tz": -180
    },
    "id": "jY_YoYML6ztP"
   },
   "outputs": [],
   "source": [
    "import kagglehub\n",
    "import pandas as pd\n",
    "import os\n",
    "from datasets import Dataset\n",
    "from sklearn.metrics import accuracy_score, precision_recall_fscore_support\n",
    "from transformers import AutoModelForSequenceClassification, AutoTokenizer\n",
    "from transformers import Trainer, TrainingArguments\n",
    "import numpy as np\n",
    "import torch"
   ]
  },
  {
   "cell_type": "code",
   "execution_count": null,
   "metadata": {
    "executionInfo": {
     "elapsed": 1,
     "status": "ok",
     "timestamp": 1743755996609,
     "user": {
      "displayName": "Kayra",
      "userId": "10105705821450407149"
     },
     "user_tz": -180
    },
    "id": "Kw4czGWE6ztQ"
   },
   "outputs": [],
   "source": [
    "def is_colab():\n",
    "    try:\n",
    "        import google.colab\n",
    "        return True\n",
    "    except ImportError:\n",
    "        return False"
   ]
  },
  {
   "cell_type": "code",
   "execution_count": null,
   "metadata": {
    "colab": {
     "base_uri": "https://localhost:8080/"
    },
    "executionInfo": {
     "elapsed": 1515,
     "status": "ok",
     "timestamp": 1743755998125,
     "user": {
      "displayName": "Kayra",
      "userId": "10105705821450407149"
     },
     "user_tz": -180
    },
    "id": "eVmdNN5k6ztQ",
    "outputId": "2af0f19e-e26e-4243-b8fe-6c5b1e2c5c36"
   },
   "outputs": [],
   "source": [
    "# Kök dizin belirleme\n",
    "if is_colab():\n",
    "    from google.colab import drive\n",
    "    drive.mount('/content/drive')\n",
    "    kok_dizin = \"/content/drive/MyDrive/spam_message_classifier_tr\"\n",
    "else:\n",
    "    kok_dizin = os.getcwd()\n",
    "print(f\"Kök dizin: {kok_dizin}\\n Not: eğer colab kullanıyorsanız, dizini değiştirmeniz gerekir.\")"
   ]
  },
  {
   "cell_type": "code",
   "execution_count": null,
   "metadata": {
    "executionInfo": {
     "elapsed": 20,
     "status": "ok",
     "timestamp": 1743755998147,
     "user": {
      "displayName": "Kayra",
      "userId": "10105705821450407149"
     },
     "user_tz": -180
    },
    "id": "GNlQ5qV38_io"
   },
   "outputs": [],
   "source": [
    "model_save_path = os.path.join(kok_dizin, \"egitilen_model\")\n",
    "model_cikti_dizini = os.path.join(kok_dizin, \"cikti\")\n",
    "if not os.path.exists(model_cikti_dizini):\n",
    "    os.makedirs(model_cikti_dizini)\n",
    "if not os.path.exists(model_save_path):\n",
    "    os.makedirs(model_save_path)"
   ]
  },
  {
   "cell_type": "code",
   "execution_count": null,
   "metadata": {
    "colab": {
     "base_uri": "https://localhost:8080/"
    },
    "executionInfo": {
     "elapsed": 17,
     "status": "ok",
     "timestamp": 1743755998166,
     "user": {
      "displayName": "Kayra",
      "userId": "10105705821450407149"
     },
     "user_tz": -180
    },
    "id": "pqG1suTQ6ztQ",
    "outputId": "d6b0c488-a4c6-48d5-b93c-82c4b93c9158"
   },
   "outputs": [],
   "source": [
    "cihaz = torch.device(\"cuda\" if torch.cuda.is_available() else \"cpu\")\n",
    "print(f\"Cihaz: {cihaz}\")"
   ]
  },
  {
   "cell_type": "markdown",
   "metadata": {
    "id": "QwMoopnQ6ztR"
   },
   "source": [
    "# Veri Kümesi Okuma"
   ]
  },
  {
   "cell_type": "markdown",
   "metadata": {
    "id": "0qrH8TWE6ztR"
   },
   "source": [
    "## Veri kümesi okuma fonksiyonu"
   ]
  },
  {
   "cell_type": "code",
   "execution_count": null,
   "metadata": {
    "executionInfo": {
     "elapsed": 12,
     "status": "ok",
     "timestamp": 1743755998177,
     "user": {
      "displayName": "Kayra",
      "userId": "10105705821450407149"
     },
     "user_tz": -180
    },
    "id": "AAwDaG5_6ztR"
   },
   "outputs": [],
   "source": [
    "def veri_kumesi_oku(veri_kumesi_adi: str) -> pd.DataFrame:\n",
    "    \"\"\"\n",
    "    Kaggle veri kümesini indirir ve döndürür.\n",
    "\n",
    "    Args:\n",
    "        veri_kumesi_adi (str): Kaggle veri kümesinin yolu.\n",
    "        gecici_yol (str): Geçici dosya yolu.\n",
    "    Returns:\n",
    "        pd.DataFrame: İndirilen veri kümesi.\n",
    "    \"\"\"\n",
    "    # Kaggle veri kümesini indir\n",
    "    gecici_yol = os.path.join(kagglehub.dataset_download(veri_kumesi_adi), \"TurkishSMSCollection.csv\")\n",
    "    return pd.read_csv(gecici_yol, sep=\";\", encoding=\"utf-8\")"
   ]
  },
  {
   "cell_type": "markdown",
   "metadata": {
    "id": "_yxWBirW6ztS"
   },
   "source": [
    "## Veri kümesini oku"
   ]
  },
  {
   "cell_type": "code",
   "execution_count": null,
   "metadata": {
    "colab": {
     "base_uri": "https://localhost:8080/",
     "height": 363
    },
    "executionInfo": {
     "elapsed": 4708,
     "status": "ok",
     "timestamp": 1743756002887,
     "user": {
      "displayName": "Kayra",
      "userId": "10105705821450407149"
     },
     "user_tz": -180
    },
    "id": "1ZDRGsIV6ztS",
    "outputId": "d170b13c-e9b9-4f4b-d16b-a9233265162e"
   },
   "outputs": [],
   "source": [
    "# Veri kümesi bilgileri\n",
    "dataset_name = \"onurkarasoy/turkish-sms-collection\"\n",
    "\n",
    "veri_kumesi = veri_kumesi_oku(dataset_name)\n",
    "veri_kumesi.head(10)  # İlk 10 satırı göster"
   ]
  },
  {
   "cell_type": "markdown",
   "metadata": {
    "id": "utN0CwHu6ztS"
   },
   "source": [
    "## Veri kümesinin gereksiz kolonlarını silme"
   ]
  },
  {
   "cell_type": "code",
   "execution_count": null,
   "metadata": {
    "colab": {
     "base_uri": "https://localhost:8080/",
     "height": 363
    },
    "executionInfo": {
     "elapsed": 131,
     "status": "ok",
     "timestamp": 1743756003017,
     "user": {
      "displayName": "Kayra",
      "userId": "10105705821450407149"
     },
     "user_tz": -180
    },
    "id": "rorUmmVs6ztS",
    "outputId": "e4f7679d-a7ce-44ad-cda4-a32f6a7ec79c"
   },
   "outputs": [],
   "source": [
    "tohum_degeri = 571\n",
    "# gereksiz sütunları kaldır\n",
    "veri_kumesi = veri_kumesi[['Message', 'Group']]\n",
    "# veri kümesini karıştır\n",
    "veri_kumesi.head(10)  # İlk 10 satırı göster"
   ]
  },
  {
   "cell_type": "markdown",
   "metadata": {
    "id": "6j3k2Ph96ztS"
   },
   "source": [
    "## Veri kümesini karıştırma"
   ]
  },
  {
   "cell_type": "code",
   "execution_count": null,
   "metadata": {
    "colab": {
     "base_uri": "https://localhost:8080/",
     "height": 363
    },
    "executionInfo": {
     "elapsed": 3,
     "status": "ok",
     "timestamp": 1743756003021,
     "user": {
      "displayName": "Kayra",
      "userId": "10105705821450407149"
     },
     "user_tz": -180
    },
    "id": "xz-9KfUP6ztS",
    "outputId": "3a993c19-9034-4a15-d491-e1f811c4e5de"
   },
   "outputs": [],
   "source": [
    "karismis_veri_kumesi = veri_kumesi.sample(frac=1, random_state=tohum_degeri).reset_index(drop=True)\n",
    "karismis_veri_kumesi.head(10)  # İlk 10 satırı göster"
   ]
  },
  {
   "cell_type": "markdown",
   "metadata": {
    "id": "JqLeLUVo6ztT"
   },
   "source": [
    "## Veri kümesini eğitim ve sınama olarak parçalama"
   ]
  },
  {
   "cell_type": "code",
   "execution_count": null,
   "metadata": {
    "executionInfo": {
     "elapsed": 1,
     "status": "ok",
     "timestamp": 1743756003023,
     "user": {
      "displayName": "Kayra",
      "userId": "10105705821450407149"
     },
     "user_tz": -180
    },
    "id": "5k9ZnQ4h6ztT"
   },
   "outputs": [],
   "source": [
    "def veri_kumesini_oranli_bol(veri_kumesi, test_orani=0.2, tohum_degeri=42):\n",
    "    \"\"\"\n",
    "    Veri kümesini, Group kolonundaki değerlerin oranlarını koruyarak böler.\n",
    "\n",
    "    Args:\n",
    "        veri_kumesi (pd.DataFrame): Bölünecek veri kümesi\n",
    "        test_orani (float): Test veri kümesinin oranı (varsayılan: 0.2)\n",
    "        tohum_degeri (int): Random state değeri (tekrarlanabilirlik için)\n",
    "\n",
    "    Returns:\n",
    "        tuple: (egitim_veri_kumesi, test_veri_kumesi) - Oransal olarak bölünmüş veri kümeleri\n",
    "    \"\"\"\n",
    "    # Benzersiz grup değerlerini bul\n",
    "    gruplar = veri_kumesi['Group'].unique()\n",
    "\n",
    "    egitim_liste = []\n",
    "    test_liste = []\n",
    "\n",
    "    # Her grup için ayrı ayrı bölme işlemi yap\n",
    "    for grup in gruplar:\n",
    "        # Sadece bu gruba ait verileri seç\n",
    "        grup_verisi = veri_kumesi[veri_kumesi['Group'] == grup]\n",
    "\n",
    "        # Bu grubu karıştır\n",
    "        karisik_grup = grup_verisi.sample(frac=1, random_state=tohum_degeri)\n",
    "\n",
    "        # Bölme noktasını hesapla\n",
    "        bolme_noktasi = int(len(karisik_grup) * test_orani)\n",
    "\n",
    "        # Bu gruptan test ve eğitim verilerini ayır\n",
    "        test_grubu = karisik_grup[:bolme_noktasi]\n",
    "        egitim_grubu = karisik_grup[bolme_noktasi:]\n",
    "\n",
    "        # Listelere ekle\n",
    "        test_liste.append(test_grubu)\n",
    "        egitim_liste.append(egitim_grubu)\n",
    "\n",
    "    # Grupları birleştir\n",
    "    test_veri_kumesi = pd.concat(test_liste).reset_index(drop=True)\n",
    "    egitim_veri_kumesi = pd.concat(egitim_liste).reset_index(drop=True)\n",
    "\n",
    "    # Son bir karıştırma işlemi\n",
    "    test_veri_kumesi = test_veri_kumesi.sample(frac=1, random_state=tohum_degeri).reset_index(drop=True)\n",
    "    egitim_veri_kumesi = egitim_veri_kumesi.sample(frac=1, random_state=tohum_degeri).reset_index(drop=True)\n",
    "\n",
    "    return egitim_veri_kumesi, test_veri_kumesi"
   ]
  },
  {
   "cell_type": "code",
   "execution_count": null,
   "metadata": {
    "colab": {
     "base_uri": "https://localhost:8080/",
     "height": 206
    },
    "executionInfo": {
     "elapsed": 13,
     "status": "ok",
     "timestamp": 1743756003037,
     "user": {
      "displayName": "Kayra",
      "userId": "10105705821450407149"
     },
     "user_tz": -180
    },
    "id": "uefD00tD6ztT",
    "outputId": "de71452d-a232-4a7a-b35c-04d71ad75858"
   },
   "outputs": [],
   "source": [
    "egitim_veri, test_veri = veri_kumesini_oranli_bol(karismis_veri_kumesi, tohum_degeri=tohum_degeri)\n",
    "egitim_veri.head(5)  # İlk 5 satırı göster\n",
    "test_veri.head(5)  # İlk 5 satırı göster"
   ]
  },
  {
   "cell_type": "markdown",
   "metadata": {
    "id": "rg9NzbiT6ztT"
   },
   "source": [
    "## Veri kümelerini eğitime hazır hale getirme fonksiyonu"
   ]
  },
  {
   "cell_type": "code",
   "execution_count": null,
   "metadata": {
    "executionInfo": {
     "elapsed": 1,
     "status": "ok",
     "timestamp": 1743756003039,
     "user": {
      "displayName": "Kayra",
      "userId": "10105705821450407149"
     },
     "user_tz": -180
    },
    "id": "B3HC9EHY6ztT"
   },
   "outputs": [],
   "source": [
    "# Veri kümesini hazırla\n",
    "def verileri_hazirla(df, tokenizer):\n",
    "    # Group değerlerini 0 ve 1'e dönüştür (Group=1 -> 0, Group=2 -> 1)\n",
    "    # BERT sınıflandırma için 0-based indeksler kullanır\n",
    "    labels = df[\"Group\"].apply(lambda x: 0 if x == 1 else 1).tolist()\n",
    "\n",
    "    # Dataset'e dönüştür\n",
    "    dataset = Dataset.from_dict({\n",
    "        \"text\": df[\"Message\"].tolist(),\n",
    "        \"label\": labels\n",
    "    })\n",
    "\n",
    "    # Tokenize işlemi\n",
    "    def tokenize_function(examples):\n",
    "        return tokenizer(\n",
    "            examples[\"text\"],\n",
    "            padding=\"max_length\",\n",
    "            truncation=True,\n",
    "            max_length=512,  # BERT için genellikle 512 kullanılır\n",
    "        )\n",
    "\n",
    "    tokenized_dataset = dataset.map(tokenize_function, batched=True)\n",
    "    return tokenized_dataset"
   ]
  },
  {
   "cell_type": "markdown",
   "metadata": {
    "id": "jX8dlWdv6ztT"
   },
   "source": [
    "## Sınama sonucu hesaplama fonksiyonu"
   ]
  },
  {
   "cell_type": "code",
   "execution_count": null,
   "metadata": {
    "executionInfo": {
     "elapsed": 2,
     "status": "ok",
     "timestamp": 1743756003042,
     "user": {
      "displayName": "Kayra",
      "userId": "10105705821450407149"
     },
     "user_tz": -180
    },
    "id": "OKFQDpxE6ztT"
   },
   "outputs": [],
   "source": [
    "# ölçüt hesaplama fonksiyonu\n",
    "def compute_metrics(eval_pred):\n",
    "    predictions, labels = eval_pred\n",
    "    predictions = np.argmax(predictions, axis=1)\n",
    "    precision, recall, f1, _ = precision_recall_fscore_support(labels, predictions, average='binary')\n",
    "    acc = accuracy_score(labels, predictions)\n",
    "    return {\n",
    "        'accuracy': acc,\n",
    "        'f1': f1,\n",
    "        'precision': precision,\n",
    "        'recall': recall\n",
    "    }"
   ]
  },
  {
   "cell_type": "markdown",
   "metadata": {
    "id": "s-6OK16a6ztT"
   },
   "source": [
    "# Model Eğitim işlemleri"
   ]
  },
  {
   "cell_type": "markdown",
   "metadata": {
    "id": "vR5ftK0K6ztT"
   },
   "source": [
    "## Model yükleme"
   ]
  },
  {
   "cell_type": "code",
   "execution_count": null,
   "metadata": {
    "colab": {
     "base_uri": "https://localhost:8080/"
    },
    "executionInfo": {
     "elapsed": 2928,
     "status": "ok",
     "timestamp": 1743756005971,
     "user": {
      "displayName": "Kayra",
      "userId": "10105705821450407149"
     },
     "user_tz": -180
    },
    "id": "2Lf-pAt56ztU",
    "outputId": "69caedfc-f2e3-4c2c-9daa-34177a577068"
   },
   "outputs": [],
   "source": [
    "model_adi = \"dbmdz/bert-base-turkish-128k-cased\"\n",
    "model = AutoModelForSequenceClassification.from_pretrained(model_adi)\n",
    "tokenizer = AutoTokenizer.from_pretrained(model_adi)\n",
    "model.to(cihaz)"
   ]
  },
  {
   "cell_type": "code",
   "execution_count": null,
   "metadata": {
    "colab": {
     "base_uri": "https://localhost:8080/",
     "height": 81,
     "referenced_widgets": [
      "97e489ae452643dd8a77ddd615a2124d",
      "8e491a2000964fb08fb561a57663f572",
      "dbff64ec6ada4b9294da069827d9a5a9",
      "d43da18bb0ec45d39ee33c49703267d2",
      "9c0e507e6ccb4ca0bd66899cc1088a62",
      "0211e00cd3744ac695d71acbcb39f280",
      "d2da3995b25249a9adcc469005557595",
      "54ac7684d7ab4e0a8932743fccd9eef7",
      "ded50c7885164ff397f4a4af6fa4b94b",
      "840591af69f8471c97578e5e145dc0d9",
      "ca354d9ec9cd42aba9921c6f2ae1b5cd",
      "d5834f3c69db477dac6a40c551a24c27",
      "71734737f3c241d4af9a2f88f6e6b33e",
      "a43cdb6b237f4a9f968d94a664fc4408",
      "292c24a7607c4f32950253a2ae61351c",
      "564509d53bd6411e9346a6e57de43717",
      "8e0da3a7ed1449308d75b11f4b4ac760",
      "2ab9888cda2e4500bbc74c8573fb7601",
      "336950ad356144c6932697d2f41dfacc",
      "1819ece3696f4012b6e3f7f20729271f",
      "c3df82959da34899b05af8a732022087",
      "5367e8d56a9642729134e3db780590e3"
     ]
    },
    "executionInfo": {
     "elapsed": 4218,
     "status": "ok",
     "timestamp": 1743756010191,
     "user": {
      "displayName": "Kayra",
      "userId": "10105705821450407149"
     },
     "user_tz": -180
    },
    "id": "FmDAuoZ76ztU",
    "outputId": "2f393db9-2971-4f7b-c3c1-e9ff8dab21c9"
   },
   "outputs": [],
   "source": [
    "# Eğitim ve test veri kümelerini hazırla\n",
    "egitim_dataset = verileri_hazirla(egitim_veri, tokenizer)\n",
    "test_dataset = verileri_hazirla(test_veri, tokenizer)"
   ]
  },
  {
   "cell_type": "markdown",
   "metadata": {
    "id": "tAqpcSff6ztU"
   },
   "source": [
    "## Eğitim argümanlarını ve eğiticiyi ayarla"
   ]
  },
  {
   "cell_type": "code",
   "execution_count": null,
   "metadata": {
    "colab": {
     "base_uri": "https://localhost:8080/"
    },
    "executionInfo": {
     "elapsed": 2612,
     "status": "ok",
     "timestamp": 1743756012804,
     "user": {
      "displayName": "Kayra",
      "userId": "10105705821450407149"
     },
     "user_tz": -180
    },
    "id": "sT_LGY0H6ztU",
    "outputId": "e9b34d67-2042-4d7e-fbf7-0cd7ba3ced46"
   },
   "outputs": [],
   "source": [
    "# Eğitim argümanlarını tanımla\n",
    "training_args = TrainingArguments(\n",
    "    output_dir= model_cikti_dizini,\n",
    "    num_train_epochs=1,  # 1 epoch\n",
    "    per_device_train_batch_size=1,\n",
    "    per_device_eval_batch_size=1,\n",
    "    gradient_accumulation_steps=128,\n",
    "    warmup_steps=0,\n",
    "    weight_decay=0.01,\n",
    "    logging_dir=model_cikti_dizini,\n",
    "    logging_steps=5,\n",
    "    eval_strategy=\"epoch\",\n",
    "    save_strategy=\"epoch\",\n",
    "    load_best_model_at_end=True,\n",
    "    metric_for_best_model=\"f1\",\n",
    ")\n",
    "\n",
    "# Eğiticiyi oluştur\n",
    "trainer = Trainer(\n",
    "    model=model,\n",
    "    args=training_args,\n",
    "    train_dataset=egitim_dataset,\n",
    "    eval_dataset=test_dataset,\n",
    "    compute_metrics=compute_metrics,\n",
    ")"
   ]
  },
  {
   "cell_type": "markdown",
   "metadata": {
    "id": "1M8dF4U46ztU"
   },
   "source": [
    "## Eğitim ve sınama işlemleri"
   ]
  },
  {
   "cell_type": "code",
   "execution_count": null,
   "metadata": {
    "colab": {
     "base_uri": "https://localhost:8080/",
     "height": 1000
    },
    "executionInfo": {
     "elapsed": 137971,
     "status": "error",
     "timestamp": 1743756210509,
     "user": {
      "displayName": "Kayra",
      "userId": "10105705821450407149"
     },
     "user_tz": -180
    },
    "id": "5p5tdG0B6ztU",
    "outputId": "8567ece9-676e-43b9-f19d-90a286de6be5"
   },
   "outputs": [],
   "source": [
    "# Modeli eğit\n",
    "trainer.train()"
   ]
  },
  {
   "cell_type": "code",
   "execution_count": null,
   "metadata": {
    "executionInfo": {
     "elapsed": 1,
     "status": "aborted",
     "timestamp": 1743756067757,
     "user": {
      "displayName": "Kayra",
      "userId": "10105705821450407149"
     },
     "user_tz": -180
    },
    "id": "621cVe5W6ztU"
   },
   "outputs": [],
   "source": [
    "# Değerlendirme\n",
    "eval_results = trainer.evaluate()\n",
    "print(f\"Değerlendirme sonuçları: {eval_results}\")\n",
    "sonuc_json_path = os.path.join(kok_dizin, \"degerlendirme_sonucu.json\")\n",
    "with open(sonuc_json_path, \"w\") as f:\n",
    "    import json\n",
    "    json.dump(eval_results, f, indent=4)\n",
    "print(f\"Değerlendirme sonuçları {sonuc_json_path} dosyasına kaydedildi.\")"
   ]
  },
  {
   "cell_type": "markdown",
   "metadata": {
    "id": "0xs4dTw46ztU"
   },
   "source": [
    "## Eğitilen modeli kaydetme"
   ]
  },
  {
   "cell_type": "code",
   "execution_count": null,
   "metadata": {
    "executionInfo": {
     "elapsed": 92946,
     "status": "aborted",
     "timestamp": 1743756067758,
     "user": {
      "displayName": "Kayra",
      "userId": "10105705821450407149"
     },
     "user_tz": -180
    },
    "id": "kvMc3MbO6ztV"
   },
   "outputs": [],
   "source": [
    "# Eğitilen modeli kaydet\n",
    "model.save_pretrained(model_save_path)\n",
    "tokenizer.save_pretrained(model_save_path)"
   ]
  }
 ],
 "metadata": {
  "accelerator": "GPU",
  "colab": {
   "gpuType": "T4",
   "provenance": []
  },
  "kernelspec": {
   "display_name": "Python 3",
   "name": "python3"
  },
  "language_info": {
   "codemirror_mode": {
    "name": "ipython",
    "version": 3
   },
   "file_extension": ".py",
   "mimetype": "text/x-python",
   "name": "python",
   "nbconvert_exporter": "python",
   "pygments_lexer": "ipython3",
   "version": "3.12.9"
  },
  "widgets": {
   "application/vnd.jupyter.widget-state+json": {
    "0211e00cd3744ac695d71acbcb39f280": {
     "model_module": "@jupyter-widgets/base",
     "model_module_version": "1.2.0",
     "model_name": "LayoutModel",
     "state": {
      "_model_module": "@jupyter-widgets/base",
      "_model_module_version": "1.2.0",
      "_model_name": "LayoutModel",
      "_view_count": null,
      "_view_module": "@jupyter-widgets/base",
      "_view_module_version": "1.2.0",
      "_view_name": "LayoutView",
      "align_content": null,
      "align_items": null,
      "align_self": null,
      "border": null,
      "bottom": null,
      "display": null,
      "flex": null,
      "flex_flow": null,
      "grid_area": null,
      "grid_auto_columns": null,
      "grid_auto_flow": null,
      "grid_auto_rows": null,
      "grid_column": null,
      "grid_gap": null,
      "grid_row": null,
      "grid_template_areas": null,
      "grid_template_columns": null,
      "grid_template_rows": null,
      "height": null,
      "justify_content": null,
      "justify_items": null,
      "left": null,
      "margin": null,
      "max_height": null,
      "max_width": null,
      "min_height": null,
      "min_width": null,
      "object_fit": null,
      "object_position": null,
      "order": null,
      "overflow": null,
      "overflow_x": null,
      "overflow_y": null,
      "padding": null,
      "right": null,
      "top": null,
      "visibility": null,
      "width": null
     }
    },
    "1819ece3696f4012b6e3f7f20729271f": {
     "model_module": "@jupyter-widgets/controls",
     "model_module_version": "1.5.0",
     "model_name": "ProgressStyleModel",
     "state": {
      "_model_module": "@jupyter-widgets/controls",
      "_model_module_version": "1.5.0",
      "_model_name": "ProgressStyleModel",
      "_view_count": null,
      "_view_module": "@jupyter-widgets/base",
      "_view_module_version": "1.2.0",
      "_view_name": "StyleView",
      "bar_color": null,
      "description_width": ""
     }
    },
    "292c24a7607c4f32950253a2ae61351c": {
     "model_module": "@jupyter-widgets/controls",
     "model_module_version": "1.5.0",
     "model_name": "HTMLModel",
     "state": {
      "_dom_classes": [],
      "_model_module": "@jupyter-widgets/controls",
      "_model_module_version": "1.5.0",
      "_model_name": "HTMLModel",
      "_view_count": null,
      "_view_module": "@jupyter-widgets/controls",
      "_view_module_version": "1.5.0",
      "_view_name": "HTMLView",
      "description": "",
      "description_tooltip": null,
      "layout": "IPY_MODEL_c3df82959da34899b05af8a732022087",
      "placeholder": "​",
      "style": "IPY_MODEL_5367e8d56a9642729134e3db780590e3",
      "value": " 950/950 [00:00&lt;00:00, 1168.25 examples/s]"
     }
    },
    "2ab9888cda2e4500bbc74c8573fb7601": {
     "model_module": "@jupyter-widgets/controls",
     "model_module_version": "1.5.0",
     "model_name": "DescriptionStyleModel",
     "state": {
      "_model_module": "@jupyter-widgets/controls",
      "_model_module_version": "1.5.0",
      "_model_name": "DescriptionStyleModel",
      "_view_count": null,
      "_view_module": "@jupyter-widgets/base",
      "_view_module_version": "1.2.0",
      "_view_name": "StyleView",
      "description_width": ""
     }
    },
    "336950ad356144c6932697d2f41dfacc": {
     "model_module": "@jupyter-widgets/base",
     "model_module_version": "1.2.0",
     "model_name": "LayoutModel",
     "state": {
      "_model_module": "@jupyter-widgets/base",
      "_model_module_version": "1.2.0",
      "_model_name": "LayoutModel",
      "_view_count": null,
      "_view_module": "@jupyter-widgets/base",
      "_view_module_version": "1.2.0",
      "_view_name": "LayoutView",
      "align_content": null,
      "align_items": null,
      "align_self": null,
      "border": null,
      "bottom": null,
      "display": null,
      "flex": null,
      "flex_flow": null,
      "grid_area": null,
      "grid_auto_columns": null,
      "grid_auto_flow": null,
      "grid_auto_rows": null,
      "grid_column": null,
      "grid_gap": null,
      "grid_row": null,
      "grid_template_areas": null,
      "grid_template_columns": null,
      "grid_template_rows": null,
      "height": null,
      "justify_content": null,
      "justify_items": null,
      "left": null,
      "margin": null,
      "max_height": null,
      "max_width": null,
      "min_height": null,
      "min_width": null,
      "object_fit": null,
      "object_position": null,
      "order": null,
      "overflow": null,
      "overflow_x": null,
      "overflow_y": null,
      "padding": null,
      "right": null,
      "top": null,
      "visibility": null,
      "width": null
     }
    },
    "5367e8d56a9642729134e3db780590e3": {
     "model_module": "@jupyter-widgets/controls",
     "model_module_version": "1.5.0",
     "model_name": "DescriptionStyleModel",
     "state": {
      "_model_module": "@jupyter-widgets/controls",
      "_model_module_version": "1.5.0",
      "_model_name": "DescriptionStyleModel",
      "_view_count": null,
      "_view_module": "@jupyter-widgets/base",
      "_view_module_version": "1.2.0",
      "_view_name": "StyleView",
      "description_width": ""
     }
    },
    "54ac7684d7ab4e0a8932743fccd9eef7": {
     "model_module": "@jupyter-widgets/base",
     "model_module_version": "1.2.0",
     "model_name": "LayoutModel",
     "state": {
      "_model_module": "@jupyter-widgets/base",
      "_model_module_version": "1.2.0",
      "_model_name": "LayoutModel",
      "_view_count": null,
      "_view_module": "@jupyter-widgets/base",
      "_view_module_version": "1.2.0",
      "_view_name": "LayoutView",
      "align_content": null,
      "align_items": null,
      "align_self": null,
      "border": null,
      "bottom": null,
      "display": null,
      "flex": null,
      "flex_flow": null,
      "grid_area": null,
      "grid_auto_columns": null,
      "grid_auto_flow": null,
      "grid_auto_rows": null,
      "grid_column": null,
      "grid_gap": null,
      "grid_row": null,
      "grid_template_areas": null,
      "grid_template_columns": null,
      "grid_template_rows": null,
      "height": null,
      "justify_content": null,
      "justify_items": null,
      "left": null,
      "margin": null,
      "max_height": null,
      "max_width": null,
      "min_height": null,
      "min_width": null,
      "object_fit": null,
      "object_position": null,
      "order": null,
      "overflow": null,
      "overflow_x": null,
      "overflow_y": null,
      "padding": null,
      "right": null,
      "top": null,
      "visibility": null,
      "width": null
     }
    },
    "564509d53bd6411e9346a6e57de43717": {
     "model_module": "@jupyter-widgets/base",
     "model_module_version": "1.2.0",
     "model_name": "LayoutModel",
     "state": {
      "_model_module": "@jupyter-widgets/base",
      "_model_module_version": "1.2.0",
      "_model_name": "LayoutModel",
      "_view_count": null,
      "_view_module": "@jupyter-widgets/base",
      "_view_module_version": "1.2.0",
      "_view_name": "LayoutView",
      "align_content": null,
      "align_items": null,
      "align_self": null,
      "border": null,
      "bottom": null,
      "display": null,
      "flex": null,
      "flex_flow": null,
      "grid_area": null,
      "grid_auto_columns": null,
      "grid_auto_flow": null,
      "grid_auto_rows": null,
      "grid_column": null,
      "grid_gap": null,
      "grid_row": null,
      "grid_template_areas": null,
      "grid_template_columns": null,
      "grid_template_rows": null,
      "height": null,
      "justify_content": null,
      "justify_items": null,
      "left": null,
      "margin": null,
      "max_height": null,
      "max_width": null,
      "min_height": null,
      "min_width": null,
      "object_fit": null,
      "object_position": null,
      "order": null,
      "overflow": null,
      "overflow_x": null,
      "overflow_y": null,
      "padding": null,
      "right": null,
      "top": null,
      "visibility": null,
      "width": null
     }
    },
    "71734737f3c241d4af9a2f88f6e6b33e": {
     "model_module": "@jupyter-widgets/controls",
     "model_module_version": "1.5.0",
     "model_name": "HTMLModel",
     "state": {
      "_dom_classes": [],
      "_model_module": "@jupyter-widgets/controls",
      "_model_module_version": "1.5.0",
      "_model_name": "HTMLModel",
      "_view_count": null,
      "_view_module": "@jupyter-widgets/controls",
      "_view_module_version": "1.5.0",
      "_view_name": "HTMLView",
      "description": "",
      "description_tooltip": null,
      "layout": "IPY_MODEL_8e0da3a7ed1449308d75b11f4b4ac760",
      "placeholder": "​",
      "style": "IPY_MODEL_2ab9888cda2e4500bbc74c8573fb7601",
      "value": "Map: 100%"
     }
    },
    "840591af69f8471c97578e5e145dc0d9": {
     "model_module": "@jupyter-widgets/base",
     "model_module_version": "1.2.0",
     "model_name": "LayoutModel",
     "state": {
      "_model_module": "@jupyter-widgets/base",
      "_model_module_version": "1.2.0",
      "_model_name": "LayoutModel",
      "_view_count": null,
      "_view_module": "@jupyter-widgets/base",
      "_view_module_version": "1.2.0",
      "_view_name": "LayoutView",
      "align_content": null,
      "align_items": null,
      "align_self": null,
      "border": null,
      "bottom": null,
      "display": null,
      "flex": null,
      "flex_flow": null,
      "grid_area": null,
      "grid_auto_columns": null,
      "grid_auto_flow": null,
      "grid_auto_rows": null,
      "grid_column": null,
      "grid_gap": null,
      "grid_row": null,
      "grid_template_areas": null,
      "grid_template_columns": null,
      "grid_template_rows": null,
      "height": null,
      "justify_content": null,
      "justify_items": null,
      "left": null,
      "margin": null,
      "max_height": null,
      "max_width": null,
      "min_height": null,
      "min_width": null,
      "object_fit": null,
      "object_position": null,
      "order": null,
      "overflow": null,
      "overflow_x": null,
      "overflow_y": null,
      "padding": null,
      "right": null,
      "top": null,
      "visibility": null,
      "width": null
     }
    },
    "8e0da3a7ed1449308d75b11f4b4ac760": {
     "model_module": "@jupyter-widgets/base",
     "model_module_version": "1.2.0",
     "model_name": "LayoutModel",
     "state": {
      "_model_module": "@jupyter-widgets/base",
      "_model_module_version": "1.2.0",
      "_model_name": "LayoutModel",
      "_view_count": null,
      "_view_module": "@jupyter-widgets/base",
      "_view_module_version": "1.2.0",
      "_view_name": "LayoutView",
      "align_content": null,
      "align_items": null,
      "align_self": null,
      "border": null,
      "bottom": null,
      "display": null,
      "flex": null,
      "flex_flow": null,
      "grid_area": null,
      "grid_auto_columns": null,
      "grid_auto_flow": null,
      "grid_auto_rows": null,
      "grid_column": null,
      "grid_gap": null,
      "grid_row": null,
      "grid_template_areas": null,
      "grid_template_columns": null,
      "grid_template_rows": null,
      "height": null,
      "justify_content": null,
      "justify_items": null,
      "left": null,
      "margin": null,
      "max_height": null,
      "max_width": null,
      "min_height": null,
      "min_width": null,
      "object_fit": null,
      "object_position": null,
      "order": null,
      "overflow": null,
      "overflow_x": null,
      "overflow_y": null,
      "padding": null,
      "right": null,
      "top": null,
      "visibility": null,
      "width": null
     }
    },
    "8e491a2000964fb08fb561a57663f572": {
     "model_module": "@jupyter-widgets/controls",
     "model_module_version": "1.5.0",
     "model_name": "HTMLModel",
     "state": {
      "_dom_classes": [],
      "_model_module": "@jupyter-widgets/controls",
      "_model_module_version": "1.5.0",
      "_model_name": "HTMLModel",
      "_view_count": null,
      "_view_module": "@jupyter-widgets/controls",
      "_view_module_version": "1.5.0",
      "_view_name": "HTMLView",
      "description": "",
      "description_tooltip": null,
      "layout": "IPY_MODEL_0211e00cd3744ac695d71acbcb39f280",
      "placeholder": "​",
      "style": "IPY_MODEL_d2da3995b25249a9adcc469005557595",
      "value": "Map: 100%"
     }
    },
    "97e489ae452643dd8a77ddd615a2124d": {
     "model_module": "@jupyter-widgets/controls",
     "model_module_version": "1.5.0",
     "model_name": "HBoxModel",
     "state": {
      "_dom_classes": [],
      "_model_module": "@jupyter-widgets/controls",
      "_model_module_version": "1.5.0",
      "_model_name": "HBoxModel",
      "_view_count": null,
      "_view_module": "@jupyter-widgets/controls",
      "_view_module_version": "1.5.0",
      "_view_name": "HBoxView",
      "box_style": "",
      "children": [
       "IPY_MODEL_8e491a2000964fb08fb561a57663f572",
       "IPY_MODEL_dbff64ec6ada4b9294da069827d9a5a9",
       "IPY_MODEL_d43da18bb0ec45d39ee33c49703267d2"
      ],
      "layout": "IPY_MODEL_9c0e507e6ccb4ca0bd66899cc1088a62"
     }
    },
    "9c0e507e6ccb4ca0bd66899cc1088a62": {
     "model_module": "@jupyter-widgets/base",
     "model_module_version": "1.2.0",
     "model_name": "LayoutModel",
     "state": {
      "_model_module": "@jupyter-widgets/base",
      "_model_module_version": "1.2.0",
      "_model_name": "LayoutModel",
      "_view_count": null,
      "_view_module": "@jupyter-widgets/base",
      "_view_module_version": "1.2.0",
      "_view_name": "LayoutView",
      "align_content": null,
      "align_items": null,
      "align_self": null,
      "border": null,
      "bottom": null,
      "display": null,
      "flex": null,
      "flex_flow": null,
      "grid_area": null,
      "grid_auto_columns": null,
      "grid_auto_flow": null,
      "grid_auto_rows": null,
      "grid_column": null,
      "grid_gap": null,
      "grid_row": null,
      "grid_template_areas": null,
      "grid_template_columns": null,
      "grid_template_rows": null,
      "height": null,
      "justify_content": null,
      "justify_items": null,
      "left": null,
      "margin": null,
      "max_height": null,
      "max_width": null,
      "min_height": null,
      "min_width": null,
      "object_fit": null,
      "object_position": null,
      "order": null,
      "overflow": null,
      "overflow_x": null,
      "overflow_y": null,
      "padding": null,
      "right": null,
      "top": null,
      "visibility": null,
      "width": null
     }
    },
    "a43cdb6b237f4a9f968d94a664fc4408": {
     "model_module": "@jupyter-widgets/controls",
     "model_module_version": "1.5.0",
     "model_name": "FloatProgressModel",
     "state": {
      "_dom_classes": [],
      "_model_module": "@jupyter-widgets/controls",
      "_model_module_version": "1.5.0",
      "_model_name": "FloatProgressModel",
      "_view_count": null,
      "_view_module": "@jupyter-widgets/controls",
      "_view_module_version": "1.5.0",
      "_view_name": "ProgressView",
      "bar_style": "success",
      "description": "",
      "description_tooltip": null,
      "layout": "IPY_MODEL_336950ad356144c6932697d2f41dfacc",
      "max": 950,
      "min": 0,
      "orientation": "horizontal",
      "style": "IPY_MODEL_1819ece3696f4012b6e3f7f20729271f",
      "value": 950
     }
    },
    "c3df82959da34899b05af8a732022087": {
     "model_module": "@jupyter-widgets/base",
     "model_module_version": "1.2.0",
     "model_name": "LayoutModel",
     "state": {
      "_model_module": "@jupyter-widgets/base",
      "_model_module_version": "1.2.0",
      "_model_name": "LayoutModel",
      "_view_count": null,
      "_view_module": "@jupyter-widgets/base",
      "_view_module_version": "1.2.0",
      "_view_name": "LayoutView",
      "align_content": null,
      "align_items": null,
      "align_self": null,
      "border": null,
      "bottom": null,
      "display": null,
      "flex": null,
      "flex_flow": null,
      "grid_area": null,
      "grid_auto_columns": null,
      "grid_auto_flow": null,
      "grid_auto_rows": null,
      "grid_column": null,
      "grid_gap": null,
      "grid_row": null,
      "grid_template_areas": null,
      "grid_template_columns": null,
      "grid_template_rows": null,
      "height": null,
      "justify_content": null,
      "justify_items": null,
      "left": null,
      "margin": null,
      "max_height": null,
      "max_width": null,
      "min_height": null,
      "min_width": null,
      "object_fit": null,
      "object_position": null,
      "order": null,
      "overflow": null,
      "overflow_x": null,
      "overflow_y": null,
      "padding": null,
      "right": null,
      "top": null,
      "visibility": null,
      "width": null
     }
    },
    "ca354d9ec9cd42aba9921c6f2ae1b5cd": {
     "model_module": "@jupyter-widgets/controls",
     "model_module_version": "1.5.0",
     "model_name": "DescriptionStyleModel",
     "state": {
      "_model_module": "@jupyter-widgets/controls",
      "_model_module_version": "1.5.0",
      "_model_name": "DescriptionStyleModel",
      "_view_count": null,
      "_view_module": "@jupyter-widgets/base",
      "_view_module_version": "1.2.0",
      "_view_name": "StyleView",
      "description_width": ""
     }
    },
    "d2da3995b25249a9adcc469005557595": {
     "model_module": "@jupyter-widgets/controls",
     "model_module_version": "1.5.0",
     "model_name": "DescriptionStyleModel",
     "state": {
      "_model_module": "@jupyter-widgets/controls",
      "_model_module_version": "1.5.0",
      "_model_name": "DescriptionStyleModel",
      "_view_count": null,
      "_view_module": "@jupyter-widgets/base",
      "_view_module_version": "1.2.0",
      "_view_name": "StyleView",
      "description_width": ""
     }
    },
    "d43da18bb0ec45d39ee33c49703267d2": {
     "model_module": "@jupyter-widgets/controls",
     "model_module_version": "1.5.0",
     "model_name": "HTMLModel",
     "state": {
      "_dom_classes": [],
      "_model_module": "@jupyter-widgets/controls",
      "_model_module_version": "1.5.0",
      "_model_name": "HTMLModel",
      "_view_count": null,
      "_view_module": "@jupyter-widgets/controls",
      "_view_module_version": "1.5.0",
      "_view_name": "HTMLView",
      "description": "",
      "description_tooltip": null,
      "layout": "IPY_MODEL_840591af69f8471c97578e5e145dc0d9",
      "placeholder": "​",
      "style": "IPY_MODEL_ca354d9ec9cd42aba9921c6f2ae1b5cd",
      "value": " 3801/3801 [00:03&lt;00:00, 1197.81 examples/s]"
     }
    },
    "d5834f3c69db477dac6a40c551a24c27": {
     "model_module": "@jupyter-widgets/controls",
     "model_module_version": "1.5.0",
     "model_name": "HBoxModel",
     "state": {
      "_dom_classes": [],
      "_model_module": "@jupyter-widgets/controls",
      "_model_module_version": "1.5.0",
      "_model_name": "HBoxModel",
      "_view_count": null,
      "_view_module": "@jupyter-widgets/controls",
      "_view_module_version": "1.5.0",
      "_view_name": "HBoxView",
      "box_style": "",
      "children": [
       "IPY_MODEL_71734737f3c241d4af9a2f88f6e6b33e",
       "IPY_MODEL_a43cdb6b237f4a9f968d94a664fc4408",
       "IPY_MODEL_292c24a7607c4f32950253a2ae61351c"
      ],
      "layout": "IPY_MODEL_564509d53bd6411e9346a6e57de43717"
     }
    },
    "dbff64ec6ada4b9294da069827d9a5a9": {
     "model_module": "@jupyter-widgets/controls",
     "model_module_version": "1.5.0",
     "model_name": "FloatProgressModel",
     "state": {
      "_dom_classes": [],
      "_model_module": "@jupyter-widgets/controls",
      "_model_module_version": "1.5.0",
      "_model_name": "FloatProgressModel",
      "_view_count": null,
      "_view_module": "@jupyter-widgets/controls",
      "_view_module_version": "1.5.0",
      "_view_name": "ProgressView",
      "bar_style": "success",
      "description": "",
      "description_tooltip": null,
      "layout": "IPY_MODEL_54ac7684d7ab4e0a8932743fccd9eef7",
      "max": 3801,
      "min": 0,
      "orientation": "horizontal",
      "style": "IPY_MODEL_ded50c7885164ff397f4a4af6fa4b94b",
      "value": 3801
     }
    },
    "ded50c7885164ff397f4a4af6fa4b94b": {
     "model_module": "@jupyter-widgets/controls",
     "model_module_version": "1.5.0",
     "model_name": "ProgressStyleModel",
     "state": {
      "_model_module": "@jupyter-widgets/controls",
      "_model_module_version": "1.5.0",
      "_model_name": "ProgressStyleModel",
      "_view_count": null,
      "_view_module": "@jupyter-widgets/base",
      "_view_module_version": "1.2.0",
      "_view_name": "StyleView",
      "bar_color": null,
      "description_width": ""
     }
    }
   }
  }
 },
 "nbformat": 4,
 "nbformat_minor": 0
}
